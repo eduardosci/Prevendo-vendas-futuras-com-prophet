{
  "nbformat": 4,
  "nbformat_minor": 0,
  "metadata": {
    "colab": {
      "name": "Previsao de vendas futuras",
      "provenance": [],
      "authorship_tag": "ABX9TyMgc021PDJVjXR9BXtRiaYU",
      "include_colab_link": true
    },
    "kernelspec": {
      "name": "python3",
      "display_name": "Python 3"
    },
    "language_info": {
      "name": "python"
    }
  },
  "cells": [
    {
      "cell_type": "markdown",
      "metadata": {
        "id": "view-in-github",
        "colab_type": "text"
      },
      "source": [
        "<a href=\"https://colab.research.google.com/github/eduardosci/Prevendo-vendas-futuras-com-prophet/blob/main/Previsao_de_vendas_futuras.ipynb\" target=\"_parent\"><img src=\"https://colab.research.google.com/assets/colab-badge.svg\" alt=\"Open In Colab\"/></a>"
      ]
    },
    {
      "cell_type": "code",
      "execution_count": 75,
      "metadata": {
        "id": "tn8TdVWSvpW_"
      },
      "outputs": [],
      "source": [
        "import pandas as pd\n",
        "import matplotlib.pyplot as plt\n",
        "from pandas import Grouper\n",
        "from matplotlib import pyplot\n",
        "from pandas import DataFrame\n",
        "import plotly.offline as py\n",
        "import plotly.graph_objs as go\n",
        "import pandas.util.testing as tm\n",
        "from statsmodels.tsa.seasonal import seasonal_decompose\n",
        "from statsmodels.graphics.tsaplots import plot_acf\n",
        "from statsmodels.graphics.tsaplots import plot_pacf\n",
        "from statsmodels.tsa.stattools import adfuller\n",
        "from matplotlib import pyplot\n",
        "from sklearn.metrics import mean_squared_error\n",
        "from math import sqrt\n",
        "from fbprophet import Prophet"
      ]
    },
    {
      "cell_type": "code",
      "source": [
        "series = pd.read_csv('champagne_sales.csv', header=0, index_col=0, parse_dates=True, squeeze=True)"
      ],
      "metadata": {
        "id": "Ex_ho2e6v8rH"
      },
      "execution_count": 5,
      "outputs": []
    },
    {
      "cell_type": "code",
      "source": [
        "series.tail()"
      ],
      "metadata": {
        "colab": {
          "base_uri": "https://localhost:8080/"
        },
        "id": "HRk8sY53zAfq",
        "outputId": "e1a006f2-1c33-4999-9e79-a746b9e54c58"
      },
      "execution_count": 6,
      "outputs": [
        {
          "output_type": "execute_result",
          "data": {
            "text/plain": [
              "Month\n",
              "1972-05-01    4618\n",
              "1972-06-01    5312\n",
              "1972-07-01    4298\n",
              "1972-08-01    1413\n",
              "1972-09-01    5877\n",
              "Name: Sales, dtype: int64"
            ]
          },
          "metadata": {},
          "execution_count": 6
        }
      ]
    },
    {
      "cell_type": "code",
      "source": [
        "type(series)"
      ],
      "metadata": {
        "colab": {
          "base_uri": "https://localhost:8080/"
        },
        "id": "kdmJQdANzASm",
        "outputId": "46455422-57ac-4866-ae54-edb8b5d3ca72"
      },
      "execution_count": 8,
      "outputs": [
        {
          "output_type": "execute_result",
          "data": {
            "text/plain": [
              "pandas.core.series.Series"
            ]
          },
          "metadata": {},
          "execution_count": 8
        }
      ]
    },
    {
      "cell_type": "markdown",
      "source": [
        "Explorando e resumindo os dados"
      ],
      "metadata": {
        "id": "-wBTs4kvz522"
      }
    },
    {
      "cell_type": "code",
      "source": [
        "#Agrupando vendas por ano\n",
        "grupos = series.groupby(Grouper(freq='A'))\n",
        "anos = DataFrame()\n",
        "for nome, grupo in grupos:\n",
        "  anos[nome.year] = grupo.values"
      ],
      "metadata": {
        "id": "mPIFY4iv31Eo"
      },
      "execution_count": 17,
      "outputs": []
    },
    {
      "cell_type": "code",
      "source": [
        "anos"
      ],
      "metadata": {
        "colab": {
          "base_uri": "https://localhost:8080/",
          "height": 418
        },
        "id": "o2r14XXL33Mj",
        "outputId": "125bb8d4-290a-4d3d-c242-0bd734cc7c1e"
      },
      "execution_count": 18,
      "outputs": [
        {
          "output_type": "execute_result",
          "data": {
            "text/plain": [
              "    1964  1965  1966   1967   1968   1969   1970   1971\n",
              "0   2815  2541  3113   5375   3633   4016   2639   3934\n",
              "1   2672  2475  3006   3088   4292   3957   2899   3162\n",
              "2   2755  3031  4047   3718   4154   4510   3370   4286\n",
              "3   2721  3266  3523   4514   4121   4276   3740   4676\n",
              "4   2946  3776  3937   4520   4647   4968   2927   5010\n",
              "5   3036  3230  3986   4539   4753   4677   3986   4874\n",
              "6   2282  3028  3260   3663   3965   3523   4217   4633\n",
              "7   2212  1759  1573   1643   1723   1821   1738   1659\n",
              "8   2922  3595  3528   4739   5048   5222   5221   5951\n",
              "9   4301  4474  5211   5428   6922   6872   6424   6981\n",
              "10  5764  6838  7614   8314   9858  10803   9842   9851\n",
              "11  7312  8357  9254  10651  11331  13916  13076  12670"
            ],
            "text/html": [
              "\n",
              "  <div id=\"df-6330800d-4d65-4c03-bd6b-d69ae4a0ec8c\">\n",
              "    <div class=\"colab-df-container\">\n",
              "      <div>\n",
              "<style scoped>\n",
              "    .dataframe tbody tr th:only-of-type {\n",
              "        vertical-align: middle;\n",
              "    }\n",
              "\n",
              "    .dataframe tbody tr th {\n",
              "        vertical-align: top;\n",
              "    }\n",
              "\n",
              "    .dataframe thead th {\n",
              "        text-align: right;\n",
              "    }\n",
              "</style>\n",
              "<table border=\"1\" class=\"dataframe\">\n",
              "  <thead>\n",
              "    <tr style=\"text-align: right;\">\n",
              "      <th></th>\n",
              "      <th>1964</th>\n",
              "      <th>1965</th>\n",
              "      <th>1966</th>\n",
              "      <th>1967</th>\n",
              "      <th>1968</th>\n",
              "      <th>1969</th>\n",
              "      <th>1970</th>\n",
              "      <th>1971</th>\n",
              "    </tr>\n",
              "  </thead>\n",
              "  <tbody>\n",
              "    <tr>\n",
              "      <th>0</th>\n",
              "      <td>2815</td>\n",
              "      <td>2541</td>\n",
              "      <td>3113</td>\n",
              "      <td>5375</td>\n",
              "      <td>3633</td>\n",
              "      <td>4016</td>\n",
              "      <td>2639</td>\n",
              "      <td>3934</td>\n",
              "    </tr>\n",
              "    <tr>\n",
              "      <th>1</th>\n",
              "      <td>2672</td>\n",
              "      <td>2475</td>\n",
              "      <td>3006</td>\n",
              "      <td>3088</td>\n",
              "      <td>4292</td>\n",
              "      <td>3957</td>\n",
              "      <td>2899</td>\n",
              "      <td>3162</td>\n",
              "    </tr>\n",
              "    <tr>\n",
              "      <th>2</th>\n",
              "      <td>2755</td>\n",
              "      <td>3031</td>\n",
              "      <td>4047</td>\n",
              "      <td>3718</td>\n",
              "      <td>4154</td>\n",
              "      <td>4510</td>\n",
              "      <td>3370</td>\n",
              "      <td>4286</td>\n",
              "    </tr>\n",
              "    <tr>\n",
              "      <th>3</th>\n",
              "      <td>2721</td>\n",
              "      <td>3266</td>\n",
              "      <td>3523</td>\n",
              "      <td>4514</td>\n",
              "      <td>4121</td>\n",
              "      <td>4276</td>\n",
              "      <td>3740</td>\n",
              "      <td>4676</td>\n",
              "    </tr>\n",
              "    <tr>\n",
              "      <th>4</th>\n",
              "      <td>2946</td>\n",
              "      <td>3776</td>\n",
              "      <td>3937</td>\n",
              "      <td>4520</td>\n",
              "      <td>4647</td>\n",
              "      <td>4968</td>\n",
              "      <td>2927</td>\n",
              "      <td>5010</td>\n",
              "    </tr>\n",
              "    <tr>\n",
              "      <th>5</th>\n",
              "      <td>3036</td>\n",
              "      <td>3230</td>\n",
              "      <td>3986</td>\n",
              "      <td>4539</td>\n",
              "      <td>4753</td>\n",
              "      <td>4677</td>\n",
              "      <td>3986</td>\n",
              "      <td>4874</td>\n",
              "    </tr>\n",
              "    <tr>\n",
              "      <th>6</th>\n",
              "      <td>2282</td>\n",
              "      <td>3028</td>\n",
              "      <td>3260</td>\n",
              "      <td>3663</td>\n",
              "      <td>3965</td>\n",
              "      <td>3523</td>\n",
              "      <td>4217</td>\n",
              "      <td>4633</td>\n",
              "    </tr>\n",
              "    <tr>\n",
              "      <th>7</th>\n",
              "      <td>2212</td>\n",
              "      <td>1759</td>\n",
              "      <td>1573</td>\n",
              "      <td>1643</td>\n",
              "      <td>1723</td>\n",
              "      <td>1821</td>\n",
              "      <td>1738</td>\n",
              "      <td>1659</td>\n",
              "    </tr>\n",
              "    <tr>\n",
              "      <th>8</th>\n",
              "      <td>2922</td>\n",
              "      <td>3595</td>\n",
              "      <td>3528</td>\n",
              "      <td>4739</td>\n",
              "      <td>5048</td>\n",
              "      <td>5222</td>\n",
              "      <td>5221</td>\n",
              "      <td>5951</td>\n",
              "    </tr>\n",
              "    <tr>\n",
              "      <th>9</th>\n",
              "      <td>4301</td>\n",
              "      <td>4474</td>\n",
              "      <td>5211</td>\n",
              "      <td>5428</td>\n",
              "      <td>6922</td>\n",
              "      <td>6872</td>\n",
              "      <td>6424</td>\n",
              "      <td>6981</td>\n",
              "    </tr>\n",
              "    <tr>\n",
              "      <th>10</th>\n",
              "      <td>5764</td>\n",
              "      <td>6838</td>\n",
              "      <td>7614</td>\n",
              "      <td>8314</td>\n",
              "      <td>9858</td>\n",
              "      <td>10803</td>\n",
              "      <td>9842</td>\n",
              "      <td>9851</td>\n",
              "    </tr>\n",
              "    <tr>\n",
              "      <th>11</th>\n",
              "      <td>7312</td>\n",
              "      <td>8357</td>\n",
              "      <td>9254</td>\n",
              "      <td>10651</td>\n",
              "      <td>11331</td>\n",
              "      <td>13916</td>\n",
              "      <td>13076</td>\n",
              "      <td>12670</td>\n",
              "    </tr>\n",
              "  </tbody>\n",
              "</table>\n",
              "</div>\n",
              "      <button class=\"colab-df-convert\" onclick=\"convertToInteractive('df-6330800d-4d65-4c03-bd6b-d69ae4a0ec8c')\"\n",
              "              title=\"Convert this dataframe to an interactive table.\"\n",
              "              style=\"display:none;\">\n",
              "        \n",
              "  <svg xmlns=\"http://www.w3.org/2000/svg\" height=\"24px\"viewBox=\"0 0 24 24\"\n",
              "       width=\"24px\">\n",
              "    <path d=\"M0 0h24v24H0V0z\" fill=\"none\"/>\n",
              "    <path d=\"M18.56 5.44l.94 2.06.94-2.06 2.06-.94-2.06-.94-.94-2.06-.94 2.06-2.06.94zm-11 1L8.5 8.5l.94-2.06 2.06-.94-2.06-.94L8.5 2.5l-.94 2.06-2.06.94zm10 10l.94 2.06.94-2.06 2.06-.94-2.06-.94-.94-2.06-.94 2.06-2.06.94z\"/><path d=\"M17.41 7.96l-1.37-1.37c-.4-.4-.92-.59-1.43-.59-.52 0-1.04.2-1.43.59L10.3 9.45l-7.72 7.72c-.78.78-.78 2.05 0 2.83L4 21.41c.39.39.9.59 1.41.59.51 0 1.02-.2 1.41-.59l7.78-7.78 2.81-2.81c.8-.78.8-2.07 0-2.86zM5.41 20L4 18.59l7.72-7.72 1.47 1.35L5.41 20z\"/>\n",
              "  </svg>\n",
              "      </button>\n",
              "      \n",
              "  <style>\n",
              "    .colab-df-container {\n",
              "      display:flex;\n",
              "      flex-wrap:wrap;\n",
              "      gap: 12px;\n",
              "    }\n",
              "\n",
              "    .colab-df-convert {\n",
              "      background-color: #E8F0FE;\n",
              "      border: none;\n",
              "      border-radius: 50%;\n",
              "      cursor: pointer;\n",
              "      display: none;\n",
              "      fill: #1967D2;\n",
              "      height: 32px;\n",
              "      padding: 0 0 0 0;\n",
              "      width: 32px;\n",
              "    }\n",
              "\n",
              "    .colab-df-convert:hover {\n",
              "      background-color: #E2EBFA;\n",
              "      box-shadow: 0px 1px 2px rgba(60, 64, 67, 0.3), 0px 1px 3px 1px rgba(60, 64, 67, 0.15);\n",
              "      fill: #174EA6;\n",
              "    }\n",
              "\n",
              "    [theme=dark] .colab-df-convert {\n",
              "      background-color: #3B4455;\n",
              "      fill: #D2E3FC;\n",
              "    }\n",
              "\n",
              "    [theme=dark] .colab-df-convert:hover {\n",
              "      background-color: #434B5C;\n",
              "      box-shadow: 0px 1px 3px 1px rgba(0, 0, 0, 0.15);\n",
              "      filter: drop-shadow(0px 1px 2px rgba(0, 0, 0, 0.3));\n",
              "      fill: #FFFFFF;\n",
              "    }\n",
              "  </style>\n",
              "\n",
              "      <script>\n",
              "        const buttonEl =\n",
              "          document.querySelector('#df-6330800d-4d65-4c03-bd6b-d69ae4a0ec8c button.colab-df-convert');\n",
              "        buttonEl.style.display =\n",
              "          google.colab.kernel.accessAllowed ? 'block' : 'none';\n",
              "\n",
              "        async function convertToInteractive(key) {\n",
              "          const element = document.querySelector('#df-6330800d-4d65-4c03-bd6b-d69ae4a0ec8c');\n",
              "          const dataTable =\n",
              "            await google.colab.kernel.invokeFunction('convertToInteractive',\n",
              "                                                     [key], {});\n",
              "          if (!dataTable) return;\n",
              "\n",
              "          const docLinkHtml = 'Like what you see? Visit the ' +\n",
              "            '<a target=\"_blank\" href=https://colab.research.google.com/notebooks/data_table.ipynb>data table notebook</a>'\n",
              "            + ' to learn more about interactive tables.';\n",
              "          element.innerHTML = '';\n",
              "          dataTable['output_type'] = 'display_data';\n",
              "          await google.colab.output.renderOutput(dataTable, element);\n",
              "          const docLink = document.createElement('div');\n",
              "          docLink.innerHTML = docLinkHtml;\n",
              "          element.appendChild(docLink);\n",
              "        }\n",
              "      </script>\n",
              "    </div>\n",
              "  </div>\n",
              "  "
            ]
          },
          "metadata": {},
          "execution_count": 18
        }
      ]
    },
    {
      "cell_type": "code",
      "source": [
        "resample = series.resample('2M')"
      ],
      "metadata": {
        "id": "4cAF4MMu62Gk"
      },
      "execution_count": 28,
      "outputs": []
    },
    {
      "cell_type": "markdown",
      "source": [
        "Criando uma variável para receber os dados do tipo série.\n"
      ],
      "metadata": {
        "id": "qMxI3ugF7dcr"
      }
    },
    {
      "cell_type": "code",
      "source": [
        "vendas_medias_dois_meses = resample.mean()"
      ],
      "metadata": {
        "id": "Ls3kXqTx7RPE"
      },
      "execution_count": 29,
      "outputs": []
    },
    {
      "cell_type": "code",
      "source": [
        "print(vendas_medias_dois_meses.head(15))"
      ],
      "metadata": {
        "colab": {
          "base_uri": "https://localhost:8080/"
        },
        "id": "-hZacbHU7RMU",
        "outputId": "ca5e4381-56b3-457c-b356-700cf5440ad8"
      },
      "execution_count": 30,
      "outputs": [
        {
          "output_type": "stream",
          "name": "stdout",
          "text": [
            "Month\n",
            "1964-01-31    2815.0\n",
            "1964-03-31    2713.5\n",
            "1964-05-31    2833.5\n",
            "1964-07-31    2659.0\n",
            "1964-09-30    2567.0\n",
            "1964-11-30    5032.5\n",
            "1965-01-31    4926.5\n",
            "1965-03-31    2753.0\n",
            "1965-05-31    3521.0\n",
            "1965-07-31    3129.0\n",
            "1965-09-30    2677.0\n",
            "1965-11-30    5656.0\n",
            "1966-01-31    5735.0\n",
            "1966-03-31    3526.5\n",
            "1966-05-31    3730.0\n",
            "Freq: 2M, Name: Sales, dtype: float64\n"
          ]
        }
      ]
    },
    {
      "cell_type": "code",
      "source": [
        "data = [go.Scatter(x=vendas_medias_dois_meses.index,\n",
        "                   y=vendas_medias_dois_meses.values)]\n",
        "\n",
        "# Criando Layout:\n",
        "configuracoes_layout = go.Layout(title='Vendas médias a cada dois meses',\n",
        "                                 title_x=0.5,\n",
        "                                 yaxis={'title':'Média de vendas'},\n",
        "                                 xaxis={'title':'Periodo'})                   \n",
        "\n",
        "\n",
        "# Objeto figura:\n",
        "fig = go.Figure(data=data, layout=configuracoes_layout)\n",
        "\n",
        "# plotando o grafico:\n",
        "py.iplot(fig)"
      ],
      "metadata": {
        "colab": {
          "base_uri": "https://localhost:8080/",
          "height": 542
        },
        "id": "F1hyS4zA7RKP",
        "outputId": "7d8e4d38-b5a1-4b46-8c14-4a17c40ea208"
      },
      "execution_count": 31,
      "outputs": [
        {
          "output_type": "display_data",
          "data": {
            "text/html": [
              "<html>\n",
              "<head><meta charset=\"utf-8\" /></head>\n",
              "<body>\n",
              "    <div>            <script src=\"https://cdnjs.cloudflare.com/ajax/libs/mathjax/2.7.5/MathJax.js?config=TeX-AMS-MML_SVG\"></script><script type=\"text/javascript\">if (window.MathJax) {MathJax.Hub.Config({SVG: {font: \"STIX-Web\"}});}</script>                <script type=\"text/javascript\">window.PlotlyConfig = {MathJaxConfig: 'local'};</script>\n",
              "        <script src=\"https://cdn.plot.ly/plotly-2.8.3.min.js\"></script>                <div id=\"663eeb55-b8b9-4ef7-93ce-1f2138cf8d0c\" class=\"plotly-graph-div\" style=\"height:525px; width:100%;\"></div>            <script type=\"text/javascript\">                                    window.PLOTLYENV=window.PLOTLYENV || {};                                    if (document.getElementById(\"663eeb55-b8b9-4ef7-93ce-1f2138cf8d0c\")) {                    Plotly.newPlot(                        \"663eeb55-b8b9-4ef7-93ce-1f2138cf8d0c\",                        [{\"x\":[\"1964-01-31T00:00:00\",\"1964-03-31T00:00:00\",\"1964-05-31T00:00:00\",\"1964-07-31T00:00:00\",\"1964-09-30T00:00:00\",\"1964-11-30T00:00:00\",\"1965-01-31T00:00:00\",\"1965-03-31T00:00:00\",\"1965-05-31T00:00:00\",\"1965-07-31T00:00:00\",\"1965-09-30T00:00:00\",\"1965-11-30T00:00:00\",\"1966-01-31T00:00:00\",\"1966-03-31T00:00:00\",\"1966-05-31T00:00:00\",\"1966-07-31T00:00:00\",\"1966-09-30T00:00:00\",\"1966-11-30T00:00:00\",\"1967-01-31T00:00:00\",\"1967-03-31T00:00:00\",\"1967-05-31T00:00:00\",\"1967-07-31T00:00:00\",\"1967-09-30T00:00:00\",\"1967-11-30T00:00:00\",\"1968-01-31T00:00:00\",\"1968-03-31T00:00:00\",\"1968-05-31T00:00:00\",\"1968-07-31T00:00:00\",\"1968-09-30T00:00:00\",\"1968-11-30T00:00:00\",\"1969-01-31T00:00:00\",\"1969-03-31T00:00:00\",\"1969-05-31T00:00:00\",\"1969-07-31T00:00:00\",\"1969-09-30T00:00:00\",\"1969-11-30T00:00:00\",\"1970-01-31T00:00:00\",\"1970-03-31T00:00:00\",\"1970-05-31T00:00:00\",\"1970-07-31T00:00:00\",\"1970-09-30T00:00:00\",\"1970-11-30T00:00:00\",\"1971-01-31T00:00:00\",\"1971-03-31T00:00:00\",\"1971-05-31T00:00:00\",\"1971-07-31T00:00:00\",\"1971-09-30T00:00:00\",\"1971-11-30T00:00:00\",\"1972-01-31T00:00:00\"],\"y\":[2815.0,2713.5,2833.5,2659.0,2567.0,5032.5,4926.5,2753.0,3521.0,3129.0,2677.0,5656.0,5735.0,3526.5,3730.0,3623.0,2550.5,6412.5,7314.5,3403.0,4517.0,4101.0,3191.0,6871.0,7142.0,4223.0,4384.0,4359.0,3385.5,8390.0,7673.5,4233.5,4622.0,4100.0,3521.5,8837.5,8277.5,3134.5,3333.5,4101.5,3479.5,8133.0,8505.0,3724.0,4843.0,4753.5,3805.0,8416.0,12670.0],\"type\":\"scatter\"}],                        {\"template\":{\"data\":{\"barpolar\":[{\"marker\":{\"line\":{\"color\":\"#E5ECF6\",\"width\":0.5},\"pattern\":{\"fillmode\":\"overlay\",\"size\":10,\"solidity\":0.2}},\"type\":\"barpolar\"}],\"bar\":[{\"error_x\":{\"color\":\"#2a3f5f\"},\"error_y\":{\"color\":\"#2a3f5f\"},\"marker\":{\"line\":{\"color\":\"#E5ECF6\",\"width\":0.5},\"pattern\":{\"fillmode\":\"overlay\",\"size\":10,\"solidity\":0.2}},\"type\":\"bar\"}],\"carpet\":[{\"aaxis\":{\"endlinecolor\":\"#2a3f5f\",\"gridcolor\":\"white\",\"linecolor\":\"white\",\"minorgridcolor\":\"white\",\"startlinecolor\":\"#2a3f5f\"},\"baxis\":{\"endlinecolor\":\"#2a3f5f\",\"gridcolor\":\"white\",\"linecolor\":\"white\",\"minorgridcolor\":\"white\",\"startlinecolor\":\"#2a3f5f\"},\"type\":\"carpet\"}],\"choropleth\":[{\"colorbar\":{\"outlinewidth\":0,\"ticks\":\"\"},\"type\":\"choropleth\"}],\"contourcarpet\":[{\"colorbar\":{\"outlinewidth\":0,\"ticks\":\"\"},\"type\":\"contourcarpet\"}],\"contour\":[{\"colorbar\":{\"outlinewidth\":0,\"ticks\":\"\"},\"colorscale\":[[0.0,\"#0d0887\"],[0.1111111111111111,\"#46039f\"],[0.2222222222222222,\"#7201a8\"],[0.3333333333333333,\"#9c179e\"],[0.4444444444444444,\"#bd3786\"],[0.5555555555555556,\"#d8576b\"],[0.6666666666666666,\"#ed7953\"],[0.7777777777777778,\"#fb9f3a\"],[0.8888888888888888,\"#fdca26\"],[1.0,\"#f0f921\"]],\"type\":\"contour\"}],\"heatmapgl\":[{\"colorbar\":{\"outlinewidth\":0,\"ticks\":\"\"},\"colorscale\":[[0.0,\"#0d0887\"],[0.1111111111111111,\"#46039f\"],[0.2222222222222222,\"#7201a8\"],[0.3333333333333333,\"#9c179e\"],[0.4444444444444444,\"#bd3786\"],[0.5555555555555556,\"#d8576b\"],[0.6666666666666666,\"#ed7953\"],[0.7777777777777778,\"#fb9f3a\"],[0.8888888888888888,\"#fdca26\"],[1.0,\"#f0f921\"]],\"type\":\"heatmapgl\"}],\"heatmap\":[{\"colorbar\":{\"outlinewidth\":0,\"ticks\":\"\"},\"colorscale\":[[0.0,\"#0d0887\"],[0.1111111111111111,\"#46039f\"],[0.2222222222222222,\"#7201a8\"],[0.3333333333333333,\"#9c179e\"],[0.4444444444444444,\"#bd3786\"],[0.5555555555555556,\"#d8576b\"],[0.6666666666666666,\"#ed7953\"],[0.7777777777777778,\"#fb9f3a\"],[0.8888888888888888,\"#fdca26\"],[1.0,\"#f0f921\"]],\"type\":\"heatmap\"}],\"histogram2dcontour\":[{\"colorbar\":{\"outlinewidth\":0,\"ticks\":\"\"},\"colorscale\":[[0.0,\"#0d0887\"],[0.1111111111111111,\"#46039f\"],[0.2222222222222222,\"#7201a8\"],[0.3333333333333333,\"#9c179e\"],[0.4444444444444444,\"#bd3786\"],[0.5555555555555556,\"#d8576b\"],[0.6666666666666666,\"#ed7953\"],[0.7777777777777778,\"#fb9f3a\"],[0.8888888888888888,\"#fdca26\"],[1.0,\"#f0f921\"]],\"type\":\"histogram2dcontour\"}],\"histogram2d\":[{\"colorbar\":{\"outlinewidth\":0,\"ticks\":\"\"},\"colorscale\":[[0.0,\"#0d0887\"],[0.1111111111111111,\"#46039f\"],[0.2222222222222222,\"#7201a8\"],[0.3333333333333333,\"#9c179e\"],[0.4444444444444444,\"#bd3786\"],[0.5555555555555556,\"#d8576b\"],[0.6666666666666666,\"#ed7953\"],[0.7777777777777778,\"#fb9f3a\"],[0.8888888888888888,\"#fdca26\"],[1.0,\"#f0f921\"]],\"type\":\"histogram2d\"}],\"histogram\":[{\"marker\":{\"pattern\":{\"fillmode\":\"overlay\",\"size\":10,\"solidity\":0.2}},\"type\":\"histogram\"}],\"mesh3d\":[{\"colorbar\":{\"outlinewidth\":0,\"ticks\":\"\"},\"type\":\"mesh3d\"}],\"parcoords\":[{\"line\":{\"colorbar\":{\"outlinewidth\":0,\"ticks\":\"\"}},\"type\":\"parcoords\"}],\"pie\":[{\"automargin\":true,\"type\":\"pie\"}],\"scatter3d\":[{\"line\":{\"colorbar\":{\"outlinewidth\":0,\"ticks\":\"\"}},\"marker\":{\"colorbar\":{\"outlinewidth\":0,\"ticks\":\"\"}},\"type\":\"scatter3d\"}],\"scattercarpet\":[{\"marker\":{\"colorbar\":{\"outlinewidth\":0,\"ticks\":\"\"}},\"type\":\"scattercarpet\"}],\"scattergeo\":[{\"marker\":{\"colorbar\":{\"outlinewidth\":0,\"ticks\":\"\"}},\"type\":\"scattergeo\"}],\"scattergl\":[{\"marker\":{\"colorbar\":{\"outlinewidth\":0,\"ticks\":\"\"}},\"type\":\"scattergl\"}],\"scattermapbox\":[{\"marker\":{\"colorbar\":{\"outlinewidth\":0,\"ticks\":\"\"}},\"type\":\"scattermapbox\"}],\"scatterpolargl\":[{\"marker\":{\"colorbar\":{\"outlinewidth\":0,\"ticks\":\"\"}},\"type\":\"scatterpolargl\"}],\"scatterpolar\":[{\"marker\":{\"colorbar\":{\"outlinewidth\":0,\"ticks\":\"\"}},\"type\":\"scatterpolar\"}],\"scatter\":[{\"marker\":{\"colorbar\":{\"outlinewidth\":0,\"ticks\":\"\"}},\"type\":\"scatter\"}],\"scatterternary\":[{\"marker\":{\"colorbar\":{\"outlinewidth\":0,\"ticks\":\"\"}},\"type\":\"scatterternary\"}],\"surface\":[{\"colorbar\":{\"outlinewidth\":0,\"ticks\":\"\"},\"colorscale\":[[0.0,\"#0d0887\"],[0.1111111111111111,\"#46039f\"],[0.2222222222222222,\"#7201a8\"],[0.3333333333333333,\"#9c179e\"],[0.4444444444444444,\"#bd3786\"],[0.5555555555555556,\"#d8576b\"],[0.6666666666666666,\"#ed7953\"],[0.7777777777777778,\"#fb9f3a\"],[0.8888888888888888,\"#fdca26\"],[1.0,\"#f0f921\"]],\"type\":\"surface\"}],\"table\":[{\"cells\":{\"fill\":{\"color\":\"#EBF0F8\"},\"line\":{\"color\":\"white\"}},\"header\":{\"fill\":{\"color\":\"#C8D4E3\"},\"line\":{\"color\":\"white\"}},\"type\":\"table\"}]},\"layout\":{\"annotationdefaults\":{\"arrowcolor\":\"#2a3f5f\",\"arrowhead\":0,\"arrowwidth\":1},\"autotypenumbers\":\"strict\",\"coloraxis\":{\"colorbar\":{\"outlinewidth\":0,\"ticks\":\"\"}},\"colorscale\":{\"diverging\":[[0,\"#8e0152\"],[0.1,\"#c51b7d\"],[0.2,\"#de77ae\"],[0.3,\"#f1b6da\"],[0.4,\"#fde0ef\"],[0.5,\"#f7f7f7\"],[0.6,\"#e6f5d0\"],[0.7,\"#b8e186\"],[0.8,\"#7fbc41\"],[0.9,\"#4d9221\"],[1,\"#276419\"]],\"sequential\":[[0.0,\"#0d0887\"],[0.1111111111111111,\"#46039f\"],[0.2222222222222222,\"#7201a8\"],[0.3333333333333333,\"#9c179e\"],[0.4444444444444444,\"#bd3786\"],[0.5555555555555556,\"#d8576b\"],[0.6666666666666666,\"#ed7953\"],[0.7777777777777778,\"#fb9f3a\"],[0.8888888888888888,\"#fdca26\"],[1.0,\"#f0f921\"]],\"sequentialminus\":[[0.0,\"#0d0887\"],[0.1111111111111111,\"#46039f\"],[0.2222222222222222,\"#7201a8\"],[0.3333333333333333,\"#9c179e\"],[0.4444444444444444,\"#bd3786\"],[0.5555555555555556,\"#d8576b\"],[0.6666666666666666,\"#ed7953\"],[0.7777777777777778,\"#fb9f3a\"],[0.8888888888888888,\"#fdca26\"],[1.0,\"#f0f921\"]]},\"colorway\":[\"#636efa\",\"#EF553B\",\"#00cc96\",\"#ab63fa\",\"#FFA15A\",\"#19d3f3\",\"#FF6692\",\"#B6E880\",\"#FF97FF\",\"#FECB52\"],\"font\":{\"color\":\"#2a3f5f\"},\"geo\":{\"bgcolor\":\"white\",\"lakecolor\":\"white\",\"landcolor\":\"#E5ECF6\",\"showlakes\":true,\"showland\":true,\"subunitcolor\":\"white\"},\"hoverlabel\":{\"align\":\"left\"},\"hovermode\":\"closest\",\"mapbox\":{\"style\":\"light\"},\"paper_bgcolor\":\"white\",\"plot_bgcolor\":\"#E5ECF6\",\"polar\":{\"angularaxis\":{\"gridcolor\":\"white\",\"linecolor\":\"white\",\"ticks\":\"\"},\"bgcolor\":\"#E5ECF6\",\"radialaxis\":{\"gridcolor\":\"white\",\"linecolor\":\"white\",\"ticks\":\"\"}},\"scene\":{\"xaxis\":{\"backgroundcolor\":\"#E5ECF6\",\"gridcolor\":\"white\",\"gridwidth\":2,\"linecolor\":\"white\",\"showbackground\":true,\"ticks\":\"\",\"zerolinecolor\":\"white\"},\"yaxis\":{\"backgroundcolor\":\"#E5ECF6\",\"gridcolor\":\"white\",\"gridwidth\":2,\"linecolor\":\"white\",\"showbackground\":true,\"ticks\":\"\",\"zerolinecolor\":\"white\"},\"zaxis\":{\"backgroundcolor\":\"#E5ECF6\",\"gridcolor\":\"white\",\"gridwidth\":2,\"linecolor\":\"white\",\"showbackground\":true,\"ticks\":\"\",\"zerolinecolor\":\"white\"}},\"shapedefaults\":{\"line\":{\"color\":\"#2a3f5f\"}},\"ternary\":{\"aaxis\":{\"gridcolor\":\"white\",\"linecolor\":\"white\",\"ticks\":\"\"},\"baxis\":{\"gridcolor\":\"white\",\"linecolor\":\"white\",\"ticks\":\"\"},\"bgcolor\":\"#E5ECF6\",\"caxis\":{\"gridcolor\":\"white\",\"linecolor\":\"white\",\"ticks\":\"\"}},\"title\":{\"x\":0.05},\"xaxis\":{\"automargin\":true,\"gridcolor\":\"white\",\"linecolor\":\"white\",\"ticks\":\"\",\"title\":{\"standoff\":15},\"zerolinecolor\":\"white\",\"zerolinewidth\":2},\"yaxis\":{\"automargin\":true,\"gridcolor\":\"white\",\"linecolor\":\"white\",\"ticks\":\"\",\"title\":{\"standoff\":15},\"zerolinecolor\":\"white\",\"zerolinewidth\":2}}},\"title\":{\"text\":\"Vendas m\\u00e9dias a cada dois meses\",\"x\":0.5},\"xaxis\":{\"title\":{\"text\":\"Periodo\"}},\"yaxis\":{\"title\":{\"text\":\"M\\u00e9dia de vendas\"}}},                        {\"responsive\": true}                    ).then(function(){\n",
              "                            \n",
              "var gd = document.getElementById('663eeb55-b8b9-4ef7-93ce-1f2138cf8d0c');\n",
              "var x = new MutationObserver(function (mutations, observer) {{\n",
              "        var display = window.getComputedStyle(gd).display;\n",
              "        if (!display || display === 'none') {{\n",
              "            console.log([gd, 'removed!']);\n",
              "            Plotly.purge(gd);\n",
              "            observer.disconnect();\n",
              "        }}\n",
              "}});\n",
              "\n",
              "// Listen for the removal of the full notebook cells\n",
              "var notebookContainer = gd.closest('#notebook-container');\n",
              "if (notebookContainer) {{\n",
              "    x.observe(notebookContainer, {childList: true});\n",
              "}}\n",
              "\n",
              "// Listen for the clearing of the current output cell\n",
              "var outputEl = gd.closest('.output');\n",
              "if (outputEl) {{\n",
              "    x.observe(outputEl, {childList: true});\n",
              "}}\n",
              "\n",
              "                        })                };                            </script>        </div>\n",
              "</body>\n",
              "</html>"
            ]
          },
          "metadata": {}
        }
      ]
    },
    {
      "cell_type": "markdown",
      "source": [
        "Venda por trimestres"
      ],
      "metadata": {
        "id": "5CE71YZU8P8T"
      }
    },
    {
      "cell_type": "code",
      "source": [
        "upsampled = series.resample('Q')"
      ],
      "metadata": {
        "id": "MlB1xlDz7Q8V"
      },
      "execution_count": 32,
      "outputs": []
    },
    {
      "cell_type": "code",
      "source": [
        "vendas_trimestre = upsampled.mean()"
      ],
      "metadata": {
        "id": "2lmmy2ik8Yss"
      },
      "execution_count": 33,
      "outputs": []
    },
    {
      "cell_type": "code",
      "source": [
        "print (vendas_trimestre)"
      ],
      "metadata": {
        "colab": {
          "base_uri": "https://localhost:8080/"
        },
        "id": "eml9opmd8YnA",
        "outputId": "04082dc1-798f-45ab-e9b7-f812ff707183"
      },
      "execution_count": 34,
      "outputs": [
        {
          "output_type": "stream",
          "name": "stdout",
          "text": [
            "Month\n",
            "1964-03-31     2747.333333\n",
            "1964-06-30     2901.000000\n",
            "1964-09-30     2472.000000\n",
            "1964-12-31     5792.333333\n",
            "1965-03-31     2682.333333\n",
            "1965-06-30     3424.000000\n",
            "1965-09-30     2794.000000\n",
            "1965-12-31     6556.333333\n",
            "1966-03-31     3388.666667\n",
            "1966-06-30     3815.333333\n",
            "1966-09-30     2787.000000\n",
            "1966-12-31     7359.666667\n",
            "1967-03-31     4060.333333\n",
            "1967-06-30     4524.333333\n",
            "1967-09-30     3348.333333\n",
            "1967-12-31     8131.000000\n",
            "1968-03-31     4026.333333\n",
            "1968-06-30     4507.000000\n",
            "1968-09-30     3578.666667\n",
            "1968-12-31     9370.333333\n",
            "1969-03-31     4161.000000\n",
            "1969-06-30     4640.333333\n",
            "1969-09-30     3522.000000\n",
            "1969-12-31    10530.333333\n",
            "1970-03-31     2969.333333\n",
            "1970-06-30     3551.000000\n",
            "1970-09-30     3725.333333\n",
            "1970-12-31     9780.666667\n",
            "1971-03-31     3794.000000\n",
            "1971-06-30     4853.333333\n",
            "1971-09-30     4081.000000\n",
            "1971-12-31     9834.000000\n",
            "Freq: Q-DEC, Name: Sales, dtype: float64\n"
          ]
        }
      ]
    },
    {
      "cell_type": "markdown",
      "source": [
        "Grafico de vendas por trimestre"
      ],
      "metadata": {
        "id": "Bnt-VEwq8pye"
      }
    },
    {
      "cell_type": "code",
      "source": [
        "import plotly.offline as py\n",
        "import plotly.graph_objs as go\n",
        "\n",
        "data = [go.Scatter(x=vendas_trimestre.index,\n",
        "                   y=vendas_trimestre.values)]\n",
        "\n",
        "# Criando Layout:\n",
        "configuracoes_layout = go.Layout(title='Vendas médias por trimestre',\n",
        "                                 title_x=0.5,\n",
        "                                 yaxis={'title':'Média de vendas'},\n",
        "                                 xaxis={'title':'Periodo'})                   \n",
        "\n",
        "\n",
        "# Objeto figura:\n",
        "fig = go.Figure(data=data, layout=configuracoes_layout)\n",
        "\n",
        "# plotando o grafico:\n",
        "py.iplot(fig)"
      ],
      "metadata": {
        "colab": {
          "base_uri": "https://localhost:8080/",
          "height": 542
        },
        "id": "GIvPV-Yk8YhT",
        "outputId": "5b4a22e7-74ae-461f-c5d5-0d5f80ce44dd"
      },
      "execution_count": 35,
      "outputs": [
        {
          "output_type": "display_data",
          "data": {
            "text/html": [
              "<html>\n",
              "<head><meta charset=\"utf-8\" /></head>\n",
              "<body>\n",
              "    <div>            <script src=\"https://cdnjs.cloudflare.com/ajax/libs/mathjax/2.7.5/MathJax.js?config=TeX-AMS-MML_SVG\"></script><script type=\"text/javascript\">if (window.MathJax) {MathJax.Hub.Config({SVG: {font: \"STIX-Web\"}});}</script>                <script type=\"text/javascript\">window.PlotlyConfig = {MathJaxConfig: 'local'};</script>\n",
              "        <script src=\"https://cdn.plot.ly/plotly-2.8.3.min.js\"></script>                <div id=\"4c1cb5b1-ea37-46be-95a0-861306279ee9\" class=\"plotly-graph-div\" style=\"height:525px; width:100%;\"></div>            <script type=\"text/javascript\">                                    window.PLOTLYENV=window.PLOTLYENV || {};                                    if (document.getElementById(\"4c1cb5b1-ea37-46be-95a0-861306279ee9\")) {                    Plotly.newPlot(                        \"4c1cb5b1-ea37-46be-95a0-861306279ee9\",                        [{\"x\":[\"1964-03-31T00:00:00\",\"1964-06-30T00:00:00\",\"1964-09-30T00:00:00\",\"1964-12-31T00:00:00\",\"1965-03-31T00:00:00\",\"1965-06-30T00:00:00\",\"1965-09-30T00:00:00\",\"1965-12-31T00:00:00\",\"1966-03-31T00:00:00\",\"1966-06-30T00:00:00\",\"1966-09-30T00:00:00\",\"1966-12-31T00:00:00\",\"1967-03-31T00:00:00\",\"1967-06-30T00:00:00\",\"1967-09-30T00:00:00\",\"1967-12-31T00:00:00\",\"1968-03-31T00:00:00\",\"1968-06-30T00:00:00\",\"1968-09-30T00:00:00\",\"1968-12-31T00:00:00\",\"1969-03-31T00:00:00\",\"1969-06-30T00:00:00\",\"1969-09-30T00:00:00\",\"1969-12-31T00:00:00\",\"1970-03-31T00:00:00\",\"1970-06-30T00:00:00\",\"1970-09-30T00:00:00\",\"1970-12-31T00:00:00\",\"1971-03-31T00:00:00\",\"1971-06-30T00:00:00\",\"1971-09-30T00:00:00\",\"1971-12-31T00:00:00\"],\"y\":[2747.3333333333335,2901.0,2472.0,5792.333333333333,2682.3333333333335,3424.0,2794.0,6556.333333333333,3388.6666666666665,3815.3333333333335,2787.0,7359.666666666667,4060.3333333333335,4524.333333333333,3348.3333333333335,8131.0,4026.3333333333335,4507.0,3578.6666666666665,9370.333333333334,4161.0,4640.333333333333,3522.0,10530.333333333334,2969.3333333333335,3551.0,3725.3333333333335,9780.666666666666,3794.0,4853.333333333333,4081.0,9834.0],\"type\":\"scatter\"}],                        {\"template\":{\"data\":{\"barpolar\":[{\"marker\":{\"line\":{\"color\":\"#E5ECF6\",\"width\":0.5},\"pattern\":{\"fillmode\":\"overlay\",\"size\":10,\"solidity\":0.2}},\"type\":\"barpolar\"}],\"bar\":[{\"error_x\":{\"color\":\"#2a3f5f\"},\"error_y\":{\"color\":\"#2a3f5f\"},\"marker\":{\"line\":{\"color\":\"#E5ECF6\",\"width\":0.5},\"pattern\":{\"fillmode\":\"overlay\",\"size\":10,\"solidity\":0.2}},\"type\":\"bar\"}],\"carpet\":[{\"aaxis\":{\"endlinecolor\":\"#2a3f5f\",\"gridcolor\":\"white\",\"linecolor\":\"white\",\"minorgridcolor\":\"white\",\"startlinecolor\":\"#2a3f5f\"},\"baxis\":{\"endlinecolor\":\"#2a3f5f\",\"gridcolor\":\"white\",\"linecolor\":\"white\",\"minorgridcolor\":\"white\",\"startlinecolor\":\"#2a3f5f\"},\"type\":\"carpet\"}],\"choropleth\":[{\"colorbar\":{\"outlinewidth\":0,\"ticks\":\"\"},\"type\":\"choropleth\"}],\"contourcarpet\":[{\"colorbar\":{\"outlinewidth\":0,\"ticks\":\"\"},\"type\":\"contourcarpet\"}],\"contour\":[{\"colorbar\":{\"outlinewidth\":0,\"ticks\":\"\"},\"colorscale\":[[0.0,\"#0d0887\"],[0.1111111111111111,\"#46039f\"],[0.2222222222222222,\"#7201a8\"],[0.3333333333333333,\"#9c179e\"],[0.4444444444444444,\"#bd3786\"],[0.5555555555555556,\"#d8576b\"],[0.6666666666666666,\"#ed7953\"],[0.7777777777777778,\"#fb9f3a\"],[0.8888888888888888,\"#fdca26\"],[1.0,\"#f0f921\"]],\"type\":\"contour\"}],\"heatmapgl\":[{\"colorbar\":{\"outlinewidth\":0,\"ticks\":\"\"},\"colorscale\":[[0.0,\"#0d0887\"],[0.1111111111111111,\"#46039f\"],[0.2222222222222222,\"#7201a8\"],[0.3333333333333333,\"#9c179e\"],[0.4444444444444444,\"#bd3786\"],[0.5555555555555556,\"#d8576b\"],[0.6666666666666666,\"#ed7953\"],[0.7777777777777778,\"#fb9f3a\"],[0.8888888888888888,\"#fdca26\"],[1.0,\"#f0f921\"]],\"type\":\"heatmapgl\"}],\"heatmap\":[{\"colorbar\":{\"outlinewidth\":0,\"ticks\":\"\"},\"colorscale\":[[0.0,\"#0d0887\"],[0.1111111111111111,\"#46039f\"],[0.2222222222222222,\"#7201a8\"],[0.3333333333333333,\"#9c179e\"],[0.4444444444444444,\"#bd3786\"],[0.5555555555555556,\"#d8576b\"],[0.6666666666666666,\"#ed7953\"],[0.7777777777777778,\"#fb9f3a\"],[0.8888888888888888,\"#fdca26\"],[1.0,\"#f0f921\"]],\"type\":\"heatmap\"}],\"histogram2dcontour\":[{\"colorbar\":{\"outlinewidth\":0,\"ticks\":\"\"},\"colorscale\":[[0.0,\"#0d0887\"],[0.1111111111111111,\"#46039f\"],[0.2222222222222222,\"#7201a8\"],[0.3333333333333333,\"#9c179e\"],[0.4444444444444444,\"#bd3786\"],[0.5555555555555556,\"#d8576b\"],[0.6666666666666666,\"#ed7953\"],[0.7777777777777778,\"#fb9f3a\"],[0.8888888888888888,\"#fdca26\"],[1.0,\"#f0f921\"]],\"type\":\"histogram2dcontour\"}],\"histogram2d\":[{\"colorbar\":{\"outlinewidth\":0,\"ticks\":\"\"},\"colorscale\":[[0.0,\"#0d0887\"],[0.1111111111111111,\"#46039f\"],[0.2222222222222222,\"#7201a8\"],[0.3333333333333333,\"#9c179e\"],[0.4444444444444444,\"#bd3786\"],[0.5555555555555556,\"#d8576b\"],[0.6666666666666666,\"#ed7953\"],[0.7777777777777778,\"#fb9f3a\"],[0.8888888888888888,\"#fdca26\"],[1.0,\"#f0f921\"]],\"type\":\"histogram2d\"}],\"histogram\":[{\"marker\":{\"pattern\":{\"fillmode\":\"overlay\",\"size\":10,\"solidity\":0.2}},\"type\":\"histogram\"}],\"mesh3d\":[{\"colorbar\":{\"outlinewidth\":0,\"ticks\":\"\"},\"type\":\"mesh3d\"}],\"parcoords\":[{\"line\":{\"colorbar\":{\"outlinewidth\":0,\"ticks\":\"\"}},\"type\":\"parcoords\"}],\"pie\":[{\"automargin\":true,\"type\":\"pie\"}],\"scatter3d\":[{\"line\":{\"colorbar\":{\"outlinewidth\":0,\"ticks\":\"\"}},\"marker\":{\"colorbar\":{\"outlinewidth\":0,\"ticks\":\"\"}},\"type\":\"scatter3d\"}],\"scattercarpet\":[{\"marker\":{\"colorbar\":{\"outlinewidth\":0,\"ticks\":\"\"}},\"type\":\"scattercarpet\"}],\"scattergeo\":[{\"marker\":{\"colorbar\":{\"outlinewidth\":0,\"ticks\":\"\"}},\"type\":\"scattergeo\"}],\"scattergl\":[{\"marker\":{\"colorbar\":{\"outlinewidth\":0,\"ticks\":\"\"}},\"type\":\"scattergl\"}],\"scattermapbox\":[{\"marker\":{\"colorbar\":{\"outlinewidth\":0,\"ticks\":\"\"}},\"type\":\"scattermapbox\"}],\"scatterpolargl\":[{\"marker\":{\"colorbar\":{\"outlinewidth\":0,\"ticks\":\"\"}},\"type\":\"scatterpolargl\"}],\"scatterpolar\":[{\"marker\":{\"colorbar\":{\"outlinewidth\":0,\"ticks\":\"\"}},\"type\":\"scatterpolar\"}],\"scatter\":[{\"marker\":{\"colorbar\":{\"outlinewidth\":0,\"ticks\":\"\"}},\"type\":\"scatter\"}],\"scatterternary\":[{\"marker\":{\"colorbar\":{\"outlinewidth\":0,\"ticks\":\"\"}},\"type\":\"scatterternary\"}],\"surface\":[{\"colorbar\":{\"outlinewidth\":0,\"ticks\":\"\"},\"colorscale\":[[0.0,\"#0d0887\"],[0.1111111111111111,\"#46039f\"],[0.2222222222222222,\"#7201a8\"],[0.3333333333333333,\"#9c179e\"],[0.4444444444444444,\"#bd3786\"],[0.5555555555555556,\"#d8576b\"],[0.6666666666666666,\"#ed7953\"],[0.7777777777777778,\"#fb9f3a\"],[0.8888888888888888,\"#fdca26\"],[1.0,\"#f0f921\"]],\"type\":\"surface\"}],\"table\":[{\"cells\":{\"fill\":{\"color\":\"#EBF0F8\"},\"line\":{\"color\":\"white\"}},\"header\":{\"fill\":{\"color\":\"#C8D4E3\"},\"line\":{\"color\":\"white\"}},\"type\":\"table\"}]},\"layout\":{\"annotationdefaults\":{\"arrowcolor\":\"#2a3f5f\",\"arrowhead\":0,\"arrowwidth\":1},\"autotypenumbers\":\"strict\",\"coloraxis\":{\"colorbar\":{\"outlinewidth\":0,\"ticks\":\"\"}},\"colorscale\":{\"diverging\":[[0,\"#8e0152\"],[0.1,\"#c51b7d\"],[0.2,\"#de77ae\"],[0.3,\"#f1b6da\"],[0.4,\"#fde0ef\"],[0.5,\"#f7f7f7\"],[0.6,\"#e6f5d0\"],[0.7,\"#b8e186\"],[0.8,\"#7fbc41\"],[0.9,\"#4d9221\"],[1,\"#276419\"]],\"sequential\":[[0.0,\"#0d0887\"],[0.1111111111111111,\"#46039f\"],[0.2222222222222222,\"#7201a8\"],[0.3333333333333333,\"#9c179e\"],[0.4444444444444444,\"#bd3786\"],[0.5555555555555556,\"#d8576b\"],[0.6666666666666666,\"#ed7953\"],[0.7777777777777778,\"#fb9f3a\"],[0.8888888888888888,\"#fdca26\"],[1.0,\"#f0f921\"]],\"sequentialminus\":[[0.0,\"#0d0887\"],[0.1111111111111111,\"#46039f\"],[0.2222222222222222,\"#7201a8\"],[0.3333333333333333,\"#9c179e\"],[0.4444444444444444,\"#bd3786\"],[0.5555555555555556,\"#d8576b\"],[0.6666666666666666,\"#ed7953\"],[0.7777777777777778,\"#fb9f3a\"],[0.8888888888888888,\"#fdca26\"],[1.0,\"#f0f921\"]]},\"colorway\":[\"#636efa\",\"#EF553B\",\"#00cc96\",\"#ab63fa\",\"#FFA15A\",\"#19d3f3\",\"#FF6692\",\"#B6E880\",\"#FF97FF\",\"#FECB52\"],\"font\":{\"color\":\"#2a3f5f\"},\"geo\":{\"bgcolor\":\"white\",\"lakecolor\":\"white\",\"landcolor\":\"#E5ECF6\",\"showlakes\":true,\"showland\":true,\"subunitcolor\":\"white\"},\"hoverlabel\":{\"align\":\"left\"},\"hovermode\":\"closest\",\"mapbox\":{\"style\":\"light\"},\"paper_bgcolor\":\"white\",\"plot_bgcolor\":\"#E5ECF6\",\"polar\":{\"angularaxis\":{\"gridcolor\":\"white\",\"linecolor\":\"white\",\"ticks\":\"\"},\"bgcolor\":\"#E5ECF6\",\"radialaxis\":{\"gridcolor\":\"white\",\"linecolor\":\"white\",\"ticks\":\"\"}},\"scene\":{\"xaxis\":{\"backgroundcolor\":\"#E5ECF6\",\"gridcolor\":\"white\",\"gridwidth\":2,\"linecolor\":\"white\",\"showbackground\":true,\"ticks\":\"\",\"zerolinecolor\":\"white\"},\"yaxis\":{\"backgroundcolor\":\"#E5ECF6\",\"gridcolor\":\"white\",\"gridwidth\":2,\"linecolor\":\"white\",\"showbackground\":true,\"ticks\":\"\",\"zerolinecolor\":\"white\"},\"zaxis\":{\"backgroundcolor\":\"#E5ECF6\",\"gridcolor\":\"white\",\"gridwidth\":2,\"linecolor\":\"white\",\"showbackground\":true,\"ticks\":\"\",\"zerolinecolor\":\"white\"}},\"shapedefaults\":{\"line\":{\"color\":\"#2a3f5f\"}},\"ternary\":{\"aaxis\":{\"gridcolor\":\"white\",\"linecolor\":\"white\",\"ticks\":\"\"},\"baxis\":{\"gridcolor\":\"white\",\"linecolor\":\"white\",\"ticks\":\"\"},\"bgcolor\":\"#E5ECF6\",\"caxis\":{\"gridcolor\":\"white\",\"linecolor\":\"white\",\"ticks\":\"\"}},\"title\":{\"x\":0.05},\"xaxis\":{\"automargin\":true,\"gridcolor\":\"white\",\"linecolor\":\"white\",\"ticks\":\"\",\"title\":{\"standoff\":15},\"zerolinecolor\":\"white\",\"zerolinewidth\":2},\"yaxis\":{\"automargin\":true,\"gridcolor\":\"white\",\"linecolor\":\"white\",\"ticks\":\"\",\"title\":{\"standoff\":15},\"zerolinecolor\":\"white\",\"zerolinewidth\":2}}},\"title\":{\"text\":\"Vendas m\\u00e9dias por trimestre\",\"x\":0.5},\"xaxis\":{\"title\":{\"text\":\"Periodo\"}},\"yaxis\":{\"title\":{\"text\":\"M\\u00e9dia de vendas\"}}},                        {\"responsive\": true}                    ).then(function(){\n",
              "                            \n",
              "var gd = document.getElementById('4c1cb5b1-ea37-46be-95a0-861306279ee9');\n",
              "var x = new MutationObserver(function (mutations, observer) {{\n",
              "        var display = window.getComputedStyle(gd).display;\n",
              "        if (!display || display === 'none') {{\n",
              "            console.log([gd, 'removed!']);\n",
              "            Plotly.purge(gd);\n",
              "            observer.disconnect();\n",
              "        }}\n",
              "}});\n",
              "\n",
              "// Listen for the removal of the full notebook cells\n",
              "var notebookContainer = gd.closest('#notebook-container');\n",
              "if (notebookContainer) {{\n",
              "    x.observe(notebookContainer, {childList: true});\n",
              "}}\n",
              "\n",
              "// Listen for the clearing of the current output cell\n",
              "var outputEl = gd.closest('.output');\n",
              "if (outputEl) {{\n",
              "    x.observe(outputEl, {childList: true});\n",
              "}}\n",
              "\n",
              "                        })                };                            </script>        </div>\n",
              "</body>\n",
              "</html>"
            ]
          },
          "metadata": {}
        }
      ]
    },
    {
      "cell_type": "markdown",
      "source": [
        "Calculando a média de vendas por ano"
      ],
      "metadata": {
        "id": "MakRRbw09mvZ"
      }
    },
    {
      "cell_type": "code",
      "source": [
        "resample = series.resample('A')"
      ],
      "metadata": {
        "id": "b3YGnBk187kc"
      },
      "execution_count": 39,
      "outputs": []
    },
    {
      "cell_type": "code",
      "source": [
        "vendas_medias_por_ano = resample.mean() \n",
        "print(vendas_medias_por_ano.head())"
      ],
      "metadata": {
        "colab": {
          "base_uri": "https://localhost:8080/"
        },
        "id": "I1iKGyAZ87h_",
        "outputId": "c5ab6771-ca61-4fff-d912-0a2dbef2235e"
      },
      "execution_count": 40,
      "outputs": [
        {
          "output_type": "stream",
          "name": "stdout",
          "text": [
            "Month\n",
            "1964-12-31    3478.166667\n",
            "1965-12-31    3864.166667\n",
            "1966-12-31    4337.666667\n",
            "1967-12-31    5016.000000\n",
            "1968-12-31    5370.583333\n",
            "Freq: A-DEC, Name: Sales, dtype: float64\n"
          ]
        }
      ]
    },
    {
      "cell_type": "code",
      "source": [
        "import plotly.offline as py\n",
        "import plotly.graph_objs as go\n",
        "\n",
        "data = [go.Scatter(x=vendas_medias_por_ano.index,\n",
        "                   y=vendas_medias_por_ano.values,\n",
        "                   marker = {'color':'green'})\n",
        "                   ]\n",
        "\n",
        "# Criando Layout:\n",
        "configuracoes_layout = go.Layout(title='Média de Vendas por Ano',\n",
        "                                 title_x=0.5,\n",
        "                                 yaxis={'title':'Média de vendas'},\n",
        "                                 xaxis={'title':'Periodo'})                   \n",
        "\n",
        "\n",
        "# Objeto figura:\n",
        "fig = go.Figure(data=data, layout=configuracoes_layout)\n",
        "\n",
        "# plotando o grafico:\n",
        "py.iplot(fig)"
      ],
      "metadata": {
        "colab": {
          "base_uri": "https://localhost:8080/",
          "height": 542
        },
        "id": "W5tHasnl87fv",
        "outputId": "792a7bcf-54d1-4eb7-f0ca-95b10ffe2a8c"
      },
      "execution_count": 41,
      "outputs": [
        {
          "output_type": "display_data",
          "data": {
            "text/html": [
              "<html>\n",
              "<head><meta charset=\"utf-8\" /></head>\n",
              "<body>\n",
              "    <div>            <script src=\"https://cdnjs.cloudflare.com/ajax/libs/mathjax/2.7.5/MathJax.js?config=TeX-AMS-MML_SVG\"></script><script type=\"text/javascript\">if (window.MathJax) {MathJax.Hub.Config({SVG: {font: \"STIX-Web\"}});}</script>                <script type=\"text/javascript\">window.PlotlyConfig = {MathJaxConfig: 'local'};</script>\n",
              "        <script src=\"https://cdn.plot.ly/plotly-2.8.3.min.js\"></script>                <div id=\"6cd56b41-6ed7-4e7a-83ef-230564396d6d\" class=\"plotly-graph-div\" style=\"height:525px; width:100%;\"></div>            <script type=\"text/javascript\">                                    window.PLOTLYENV=window.PLOTLYENV || {};                                    if (document.getElementById(\"6cd56b41-6ed7-4e7a-83ef-230564396d6d\")) {                    Plotly.newPlot(                        \"6cd56b41-6ed7-4e7a-83ef-230564396d6d\",                        [{\"marker\":{\"color\":\"green\"},\"x\":[\"1964-12-31T00:00:00\",\"1965-12-31T00:00:00\",\"1966-12-31T00:00:00\",\"1967-12-31T00:00:00\",\"1968-12-31T00:00:00\",\"1969-12-31T00:00:00\",\"1970-12-31T00:00:00\",\"1971-12-31T00:00:00\"],\"y\":[3478.1666666666665,3864.1666666666665,4337.666666666667,5016.0,5370.583333333333,5713.416666666667,5006.583333333333,5640.583333333333],\"type\":\"scatter\"}],                        {\"template\":{\"data\":{\"barpolar\":[{\"marker\":{\"line\":{\"color\":\"#E5ECF6\",\"width\":0.5},\"pattern\":{\"fillmode\":\"overlay\",\"size\":10,\"solidity\":0.2}},\"type\":\"barpolar\"}],\"bar\":[{\"error_x\":{\"color\":\"#2a3f5f\"},\"error_y\":{\"color\":\"#2a3f5f\"},\"marker\":{\"line\":{\"color\":\"#E5ECF6\",\"width\":0.5},\"pattern\":{\"fillmode\":\"overlay\",\"size\":10,\"solidity\":0.2}},\"type\":\"bar\"}],\"carpet\":[{\"aaxis\":{\"endlinecolor\":\"#2a3f5f\",\"gridcolor\":\"white\",\"linecolor\":\"white\",\"minorgridcolor\":\"white\",\"startlinecolor\":\"#2a3f5f\"},\"baxis\":{\"endlinecolor\":\"#2a3f5f\",\"gridcolor\":\"white\",\"linecolor\":\"white\",\"minorgridcolor\":\"white\",\"startlinecolor\":\"#2a3f5f\"},\"type\":\"carpet\"}],\"choropleth\":[{\"colorbar\":{\"outlinewidth\":0,\"ticks\":\"\"},\"type\":\"choropleth\"}],\"contourcarpet\":[{\"colorbar\":{\"outlinewidth\":0,\"ticks\":\"\"},\"type\":\"contourcarpet\"}],\"contour\":[{\"colorbar\":{\"outlinewidth\":0,\"ticks\":\"\"},\"colorscale\":[[0.0,\"#0d0887\"],[0.1111111111111111,\"#46039f\"],[0.2222222222222222,\"#7201a8\"],[0.3333333333333333,\"#9c179e\"],[0.4444444444444444,\"#bd3786\"],[0.5555555555555556,\"#d8576b\"],[0.6666666666666666,\"#ed7953\"],[0.7777777777777778,\"#fb9f3a\"],[0.8888888888888888,\"#fdca26\"],[1.0,\"#f0f921\"]],\"type\":\"contour\"}],\"heatmapgl\":[{\"colorbar\":{\"outlinewidth\":0,\"ticks\":\"\"},\"colorscale\":[[0.0,\"#0d0887\"],[0.1111111111111111,\"#46039f\"],[0.2222222222222222,\"#7201a8\"],[0.3333333333333333,\"#9c179e\"],[0.4444444444444444,\"#bd3786\"],[0.5555555555555556,\"#d8576b\"],[0.6666666666666666,\"#ed7953\"],[0.7777777777777778,\"#fb9f3a\"],[0.8888888888888888,\"#fdca26\"],[1.0,\"#f0f921\"]],\"type\":\"heatmapgl\"}],\"heatmap\":[{\"colorbar\":{\"outlinewidth\":0,\"ticks\":\"\"},\"colorscale\":[[0.0,\"#0d0887\"],[0.1111111111111111,\"#46039f\"],[0.2222222222222222,\"#7201a8\"],[0.3333333333333333,\"#9c179e\"],[0.4444444444444444,\"#bd3786\"],[0.5555555555555556,\"#d8576b\"],[0.6666666666666666,\"#ed7953\"],[0.7777777777777778,\"#fb9f3a\"],[0.8888888888888888,\"#fdca26\"],[1.0,\"#f0f921\"]],\"type\":\"heatmap\"}],\"histogram2dcontour\":[{\"colorbar\":{\"outlinewidth\":0,\"ticks\":\"\"},\"colorscale\":[[0.0,\"#0d0887\"],[0.1111111111111111,\"#46039f\"],[0.2222222222222222,\"#7201a8\"],[0.3333333333333333,\"#9c179e\"],[0.4444444444444444,\"#bd3786\"],[0.5555555555555556,\"#d8576b\"],[0.6666666666666666,\"#ed7953\"],[0.7777777777777778,\"#fb9f3a\"],[0.8888888888888888,\"#fdca26\"],[1.0,\"#f0f921\"]],\"type\":\"histogram2dcontour\"}],\"histogram2d\":[{\"colorbar\":{\"outlinewidth\":0,\"ticks\":\"\"},\"colorscale\":[[0.0,\"#0d0887\"],[0.1111111111111111,\"#46039f\"],[0.2222222222222222,\"#7201a8\"],[0.3333333333333333,\"#9c179e\"],[0.4444444444444444,\"#bd3786\"],[0.5555555555555556,\"#d8576b\"],[0.6666666666666666,\"#ed7953\"],[0.7777777777777778,\"#fb9f3a\"],[0.8888888888888888,\"#fdca26\"],[1.0,\"#f0f921\"]],\"type\":\"histogram2d\"}],\"histogram\":[{\"marker\":{\"pattern\":{\"fillmode\":\"overlay\",\"size\":10,\"solidity\":0.2}},\"type\":\"histogram\"}],\"mesh3d\":[{\"colorbar\":{\"outlinewidth\":0,\"ticks\":\"\"},\"type\":\"mesh3d\"}],\"parcoords\":[{\"line\":{\"colorbar\":{\"outlinewidth\":0,\"ticks\":\"\"}},\"type\":\"parcoords\"}],\"pie\":[{\"automargin\":true,\"type\":\"pie\"}],\"scatter3d\":[{\"line\":{\"colorbar\":{\"outlinewidth\":0,\"ticks\":\"\"}},\"marker\":{\"colorbar\":{\"outlinewidth\":0,\"ticks\":\"\"}},\"type\":\"scatter3d\"}],\"scattercarpet\":[{\"marker\":{\"colorbar\":{\"outlinewidth\":0,\"ticks\":\"\"}},\"type\":\"scattercarpet\"}],\"scattergeo\":[{\"marker\":{\"colorbar\":{\"outlinewidth\":0,\"ticks\":\"\"}},\"type\":\"scattergeo\"}],\"scattergl\":[{\"marker\":{\"colorbar\":{\"outlinewidth\":0,\"ticks\":\"\"}},\"type\":\"scattergl\"}],\"scattermapbox\":[{\"marker\":{\"colorbar\":{\"outlinewidth\":0,\"ticks\":\"\"}},\"type\":\"scattermapbox\"}],\"scatterpolargl\":[{\"marker\":{\"colorbar\":{\"outlinewidth\":0,\"ticks\":\"\"}},\"type\":\"scatterpolargl\"}],\"scatterpolar\":[{\"marker\":{\"colorbar\":{\"outlinewidth\":0,\"ticks\":\"\"}},\"type\":\"scatterpolar\"}],\"scatter\":[{\"marker\":{\"colorbar\":{\"outlinewidth\":0,\"ticks\":\"\"}},\"type\":\"scatter\"}],\"scatterternary\":[{\"marker\":{\"colorbar\":{\"outlinewidth\":0,\"ticks\":\"\"}},\"type\":\"scatterternary\"}],\"surface\":[{\"colorbar\":{\"outlinewidth\":0,\"ticks\":\"\"},\"colorscale\":[[0.0,\"#0d0887\"],[0.1111111111111111,\"#46039f\"],[0.2222222222222222,\"#7201a8\"],[0.3333333333333333,\"#9c179e\"],[0.4444444444444444,\"#bd3786\"],[0.5555555555555556,\"#d8576b\"],[0.6666666666666666,\"#ed7953\"],[0.7777777777777778,\"#fb9f3a\"],[0.8888888888888888,\"#fdca26\"],[1.0,\"#f0f921\"]],\"type\":\"surface\"}],\"table\":[{\"cells\":{\"fill\":{\"color\":\"#EBF0F8\"},\"line\":{\"color\":\"white\"}},\"header\":{\"fill\":{\"color\":\"#C8D4E3\"},\"line\":{\"color\":\"white\"}},\"type\":\"table\"}]},\"layout\":{\"annotationdefaults\":{\"arrowcolor\":\"#2a3f5f\",\"arrowhead\":0,\"arrowwidth\":1},\"autotypenumbers\":\"strict\",\"coloraxis\":{\"colorbar\":{\"outlinewidth\":0,\"ticks\":\"\"}},\"colorscale\":{\"diverging\":[[0,\"#8e0152\"],[0.1,\"#c51b7d\"],[0.2,\"#de77ae\"],[0.3,\"#f1b6da\"],[0.4,\"#fde0ef\"],[0.5,\"#f7f7f7\"],[0.6,\"#e6f5d0\"],[0.7,\"#b8e186\"],[0.8,\"#7fbc41\"],[0.9,\"#4d9221\"],[1,\"#276419\"]],\"sequential\":[[0.0,\"#0d0887\"],[0.1111111111111111,\"#46039f\"],[0.2222222222222222,\"#7201a8\"],[0.3333333333333333,\"#9c179e\"],[0.4444444444444444,\"#bd3786\"],[0.5555555555555556,\"#d8576b\"],[0.6666666666666666,\"#ed7953\"],[0.7777777777777778,\"#fb9f3a\"],[0.8888888888888888,\"#fdca26\"],[1.0,\"#f0f921\"]],\"sequentialminus\":[[0.0,\"#0d0887\"],[0.1111111111111111,\"#46039f\"],[0.2222222222222222,\"#7201a8\"],[0.3333333333333333,\"#9c179e\"],[0.4444444444444444,\"#bd3786\"],[0.5555555555555556,\"#d8576b\"],[0.6666666666666666,\"#ed7953\"],[0.7777777777777778,\"#fb9f3a\"],[0.8888888888888888,\"#fdca26\"],[1.0,\"#f0f921\"]]},\"colorway\":[\"#636efa\",\"#EF553B\",\"#00cc96\",\"#ab63fa\",\"#FFA15A\",\"#19d3f3\",\"#FF6692\",\"#B6E880\",\"#FF97FF\",\"#FECB52\"],\"font\":{\"color\":\"#2a3f5f\"},\"geo\":{\"bgcolor\":\"white\",\"lakecolor\":\"white\",\"landcolor\":\"#E5ECF6\",\"showlakes\":true,\"showland\":true,\"subunitcolor\":\"white\"},\"hoverlabel\":{\"align\":\"left\"},\"hovermode\":\"closest\",\"mapbox\":{\"style\":\"light\"},\"paper_bgcolor\":\"white\",\"plot_bgcolor\":\"#E5ECF6\",\"polar\":{\"angularaxis\":{\"gridcolor\":\"white\",\"linecolor\":\"white\",\"ticks\":\"\"},\"bgcolor\":\"#E5ECF6\",\"radialaxis\":{\"gridcolor\":\"white\",\"linecolor\":\"white\",\"ticks\":\"\"}},\"scene\":{\"xaxis\":{\"backgroundcolor\":\"#E5ECF6\",\"gridcolor\":\"white\",\"gridwidth\":2,\"linecolor\":\"white\",\"showbackground\":true,\"ticks\":\"\",\"zerolinecolor\":\"white\"},\"yaxis\":{\"backgroundcolor\":\"#E5ECF6\",\"gridcolor\":\"white\",\"gridwidth\":2,\"linecolor\":\"white\",\"showbackground\":true,\"ticks\":\"\",\"zerolinecolor\":\"white\"},\"zaxis\":{\"backgroundcolor\":\"#E5ECF6\",\"gridcolor\":\"white\",\"gridwidth\":2,\"linecolor\":\"white\",\"showbackground\":true,\"ticks\":\"\",\"zerolinecolor\":\"white\"}},\"shapedefaults\":{\"line\":{\"color\":\"#2a3f5f\"}},\"ternary\":{\"aaxis\":{\"gridcolor\":\"white\",\"linecolor\":\"white\",\"ticks\":\"\"},\"baxis\":{\"gridcolor\":\"white\",\"linecolor\":\"white\",\"ticks\":\"\"},\"bgcolor\":\"#E5ECF6\",\"caxis\":{\"gridcolor\":\"white\",\"linecolor\":\"white\",\"ticks\":\"\"}},\"title\":{\"x\":0.05},\"xaxis\":{\"automargin\":true,\"gridcolor\":\"white\",\"linecolor\":\"white\",\"ticks\":\"\",\"title\":{\"standoff\":15},\"zerolinecolor\":\"white\",\"zerolinewidth\":2},\"yaxis\":{\"automargin\":true,\"gridcolor\":\"white\",\"linecolor\":\"white\",\"ticks\":\"\",\"title\":{\"standoff\":15},\"zerolinecolor\":\"white\",\"zerolinewidth\":2}}},\"title\":{\"text\":\"M\\u00e9dia de Vendas por Ano\",\"x\":0.5},\"xaxis\":{\"title\":{\"text\":\"Periodo\"}},\"yaxis\":{\"title\":{\"text\":\"M\\u00e9dia de vendas\"}}},                        {\"responsive\": true}                    ).then(function(){\n",
              "                            \n",
              "var gd = document.getElementById('6cd56b41-6ed7-4e7a-83ef-230564396d6d');\n",
              "var x = new MutationObserver(function (mutations, observer) {{\n",
              "        var display = window.getComputedStyle(gd).display;\n",
              "        if (!display || display === 'none') {{\n",
              "            console.log([gd, 'removed!']);\n",
              "            Plotly.purge(gd);\n",
              "            observer.disconnect();\n",
              "        }}\n",
              "}});\n",
              "\n",
              "// Listen for the removal of the full notebook cells\n",
              "var notebookContainer = gd.closest('#notebook-container');\n",
              "if (notebookContainer) {{\n",
              "    x.observe(notebookContainer, {childList: true});\n",
              "}}\n",
              "\n",
              "// Listen for the clearing of the current output cell\n",
              "var outputEl = gd.closest('.output');\n",
              "if (outputEl) {{\n",
              "    x.observe(outputEl, {childList: true});\n",
              "}}\n",
              "\n",
              "                        })                };                            </script>        </div>\n",
              "</body>\n",
              "</html>"
            ]
          },
          "metadata": {}
        }
      ]
    },
    {
      "cell_type": "markdown",
      "source": [
        "Decompondo a serie"
      ],
      "metadata": {
        "id": "lCaLWO4EClyk"
      }
    },
    {
      "cell_type": "markdown",
      "source": [
        "Modelo aditivo"
      ],
      "metadata": {
        "id": "UP1RlxTKESem"
      }
    },
    {
      "cell_type": "code",
      "source": [
        "resultado = seasonal_decompose(series,  model='additive')"
      ],
      "metadata": {
        "id": "9awqZUn987dq"
      },
      "execution_count": 44,
      "outputs": []
    },
    {
      "cell_type": "code",
      "source": [
        "resultado.plot()\n",
        "pyplot.show()"
      ],
      "metadata": {
        "colab": {
          "base_uri": "https://localhost:8080/",
          "height": 297
        },
        "id": "5F02wwOGDZub",
        "outputId": "1a35143b-1425-4547-89ae-38006a7c7427"
      },
      "execution_count": 45,
      "outputs": [
        {
          "output_type": "display_data",
          "data": {
            "text/plain": [
              "<Figure size 432x288 with 4 Axes>"
            ],
            "image/png": "[encoded data removed]"
          },
          "metadata": {
            "needs_background": "light"
          }
        }
      ]
    },
    {
      "cell_type": "markdown",
      "source": [
        "Modelo multiplicativo"
      ],
      "metadata": {
        "id": "Fgdj9OiFEY4b"
      }
    },
    {
      "cell_type": "code",
      "source": [
        "resultado = seasonal_decompose(series,  model='multiplicative')"
      ],
      "metadata": {
        "id": "pYAdtQh3DZrv"
      },
      "execution_count": 46,
      "outputs": []
    },
    {
      "cell_type": "code",
      "source": [
        "resultado.plot()\n",
        "pyplot.show()"
      ],
      "metadata": {
        "colab": {
          "base_uri": "https://localhost:8080/",
          "height": 297
        },
        "id": "MXziYe2NDZdS",
        "outputId": "9627b38b-b606-4ca6-a481-966edcc29e02"
      },
      "execution_count": 47,
      "outputs": [
        {
          "output_type": "display_data",
          "data": {
            "text/plain": [
              "<Figure size 432x288 with 4 Axes>"
            ],
            "image/png": "[encoded data removed]"
          },
          "metadata": {
            "needs_background": "light"
          }
        }
      ]
    },
    {
      "cell_type": "markdown",
      "source": [
        "Prevendo dados futuros com Prophet"
      ],
      "metadata": {
        "id": "kbWVaO6HFCrE"
      }
    },
    {
      "cell_type": "markdown",
      "source": [
        "**Separando os dados para treino, teste e validação**\n",
        "  - **dataset.csv**: Dados de 1964 a setembro de 1971.\n",
        "\n",
        "  - **validation.csv**: Dados de Outubro de 1971 a Outubro de 1972 (1 ano de vendas).\n"
      ],
      "metadata": {
        "id": "ft2lQaN6Fb_T"
      }
    },
    {
      "cell_type": "code",
      "source": [
        "split_point = len(series) - 12"
      ],
      "metadata": {
        "id": "Db9HSoceEceM"
      },
      "execution_count": 48,
      "outputs": []
    },
    {
      "cell_type": "code",
      "source": [
        "dataset = series[0:split_point]"
      ],
      "metadata": {
        "id": "2YO6t-w6Ecb1"
      },
      "execution_count": 49,
      "outputs": []
    },
    {
      "cell_type": "code",
      "source": [
        "validation = series[split_point:]"
      ],
      "metadata": {
        "id": "MglbIOpXEcZn"
      },
      "execution_count": 50,
      "outputs": []
    },
    {
      "cell_type": "code",
      "source": [
        "print('Dataset %d, Validation %d' % (len(dataset), len(validation)))"
      ],
      "metadata": {
        "colab": {
          "base_uri": "https://localhost:8080/"
        },
        "id": "0ai5OIljEcXW",
        "outputId": "e0fe2e19-d09b-4de2-dfbb-1035b571520d"
      },
      "execution_count": 51,
      "outputs": [
        {
          "output_type": "stream",
          "name": "stdout",
          "text": [
            "Dataset 84, Validation 12\n"
          ]
        }
      ]
    },
    {
      "cell_type": "code",
      "source": [
        "dataset.to_csv('dataset.csv')"
      ],
      "metadata": {
        "id": "H-mg3sWwEcVl"
      },
      "execution_count": 52,
      "outputs": []
    },
    {
      "cell_type": "code",
      "source": [
        "validation.to_csv('validation.csv')"
      ],
      "metadata": {
        "id": "Sa4I0XhnGwN-"
      },
      "execution_count": 53,
      "outputs": []
    },
    {
      "cell_type": "code",
      "source": [
        "series = pd.read_csv('/content/dataset.csv', header=0, index_col=0, parse_dates=True, squeeze=True)"
      ],
      "metadata": {
        "id": "WXMG9pmqGwLM"
      },
      "execution_count": 55,
      "outputs": []
    },
    {
      "cell_type": "code",
      "source": [
        "series.describe()"
      ],
      "metadata": {
        "colab": {
          "base_uri": "https://localhost:8080/"
        },
        "id": "f-cyG9xXGwJB",
        "outputId": "2b1870cb-c961-4622-b54b-2dd3b9b74628"
      },
      "execution_count": 57,
      "outputs": [
        {
          "output_type": "execute_result",
          "data": {
            "text/plain": [
              "count       84.000000\n",
              "mean      4683.797619\n",
              "std       2585.863887\n",
              "min       1573.000000\n",
              "25%       3030.250000\n",
              "50%       3986.000000\n",
              "75%       5213.500000\n",
              "max      13916.000000\n",
              "Name: Sales, dtype: float64"
            ]
          },
          "metadata": {},
          "execution_count": 57
        }
      ]
    },
    {
      "cell_type": "markdown",
      "source": [
        "*   A média é de 4,683, isso significa que o nível da nossa série é de 4,683 vendas em média.\n",
        "*   O desvio padrão é relativamente alto, 2,585 vendas variando a partir da média.\n",
        "*   Os quartis juntamente com o desvio padrão nos mostra que os dados estão espalhados da média."
      ],
      "metadata": {
        "id": "6li793kSNb8k"
      }
    },
    {
      "cell_type": "code",
      "source": [
        "series.plot()"
      ],
      "metadata": {
        "colab": {
          "base_uri": "https://localhost:8080/",
          "height": 296
        },
        "id": "EkUraM1VGv8_",
        "outputId": "365dd152-c302-49bb-ef21-94277fc1b9ca"
      },
      "execution_count": 58,
      "outputs": [
        {
          "output_type": "execute_result",
          "data": {
            "text/plain": [
              "<matplotlib.axes._subplots.AxesSubplot at 0x7fcee30c6cd0>"
            ]
          },
          "metadata": {},
          "execution_count": 58
        },
        {
          "output_type": "display_data",
          "data": {
            "text/plain": [
              "<Figure size 432x288 with 1 Axes>"
            ],
            "image/png": "[encoded data removed]"
          },
          "metadata": {
            "needs_background": "light"
          }
        }
      ]
    },
    {
      "cell_type": "markdown",
      "source": [
        "   - Aparentemente existe um aumento de tendência de vendas ao longo dos anos.\n",
        "   - Aparentemente existe uma sazonalidade nas vendas por anos.\n",
        "   - Aparentemente a amplitude da sazonalidade aumenta conforme a tendência, isso pode sugerir um relacionamento multiplicativo.\n",
        "   - Aparentemente não existe qualquer outlier.\n",
        "   - Como vimos que há uma tendência e uma sazonalidade (obvias) isso nos dá forte indício que estamos trabalhando com uma série não estacionária."
      ],
      "metadata": {
        "id": "PN9pWGbXONL8"
      }
    },
    {
      "cell_type": "markdown",
      "source": [
        "**Visualizando a Sazonalidade**\n",
        "\n",
        "Podemos confirmar nossa suposição de que a sazonalidae é anual. No código abaixo plotei os dados agrupados por ano para visualizar as vendas de cada ano. "
      ],
      "metadata": {
        "id": "SUcQAkAYOkiX"
      }
    },
    {
      "cell_type": "code",
      "source": [
        "grupos = series['1964':'1970'].groupby(Grouper(freq='A'))\n",
        "anos = DataFrame()\n",
        "for nome, grupo in grupos:\n",
        "  anos[nome.year] = grupo.values\n",
        "\n",
        "anos.plot(figsize=(10,5)\n",
        "          ,subplots=True\n",
        "          ,title='Vendas em meses por anos')"
      ],
      "metadata": {
        "colab": {
          "base_uri": "https://localhost:8080/",
          "height": 490
        },
        "id": "smlJaljFOzmp",
        "outputId": "28e94a52-2651-4932-94fe-610fc231351b"
      },
      "execution_count": 59,
      "outputs": [
        {
          "output_type": "execute_result",
          "data": {
            "text/plain": [
              "array([<matplotlib.axes._subplots.AxesSubplot object at 0x7fcee2ffabd0>,\n",
              "       <matplotlib.axes._subplots.AxesSubplot object at 0x7fcee2f9cf90>,\n",
              "       <matplotlib.axes._subplots.AxesSubplot object at 0x7fcee2ffa790>,\n",
              "       <matplotlib.axes._subplots.AxesSubplot object at 0x7fcee2f97610>,\n",
              "       <matplotlib.axes._subplots.AxesSubplot object at 0x7fcee2f4f950>,\n",
              "       <matplotlib.axes._subplots.AxesSubplot object at 0x7fcee2f0ac90>,\n",
              "       <matplotlib.axes._subplots.AxesSubplot object at 0x7fcee2eb6b10>],\n",
              "      dtype=object)"
            ]
          },
          "metadata": {},
          "execution_count": 59
        },
        {
          "output_type": "display_data",
          "data": {
            "text/plain": [
              "<Figure size 720x360 with 7 Axes>"
            ],
            "image/png": "[encoded data removed]"
          },
          "metadata": {
            "needs_background": "light"
          }
        }
      ]
    },
    {
      "cell_type": "markdown",
      "source": [
        "Podemos ver claramente que as vendas caem no mes de agosto e aumentam no final do mes seguinte ate o final do ano."
      ],
      "metadata": {
        "id": "dtiPLRefPgHO"
      }
    },
    {
      "cell_type": "markdown",
      "source": [
        "**Plotando a distribuição da Série**\n",
        "\n",
        "-  A distribuição não é normal.\n",
        "-  A forma tem uma longa cauda a direita. Isso pode sugerir algum tipo de transformação."
      ],
      "metadata": {
        "id": "uxVQSULPQCOJ"
      }
    },
    {
      "cell_type": "code",
      "source": [
        "from matplotlib import pyplot\n",
        "pyplot.figure(1)\n",
        "pyplot.subplot(211)\n",
        "series.hist()\n",
        "pyplot.subplot(212)\n",
        "series.plot(kind='kde')\n",
        "pyplot.show()"
      ],
      "metadata": {
        "colab": {
          "base_uri": "https://localhost:8080/",
          "height": 265
        },
        "id": "lPYvBw_PQYeD",
        "outputId": "969645c9-43fd-4f85-eafd-1b58f3f143a1"
      },
      "execution_count": 60,
      "outputs": [
        {
          "output_type": "display_data",
          "data": {
            "text/plain": [
              "<Figure size 432x288 with 2 Axes>"
            ],
            "image/png": "[encoded data removed]"
          },
          "metadata": {
            "needs_background": "light"
          }
        }
      ]
    },
    {
      "cell_type": "markdown",
      "source": [
        "**Visualizando Autocorrelação**"
      ],
      "metadata": {
        "id": "f-O_uYXnQxU6"
      }
    },
    {
      "cell_type": "code",
      "source": [
        "plot_acf(series, lags=40)\n",
        "pyplot.show()"
      ],
      "metadata": {
        "colab": {
          "base_uri": "https://localhost:8080/",
          "height": 281
        },
        "id": "OWgu7R_wQYbe",
        "outputId": "e9faef5f-d3bd-4614-9b13-09f4b85d132d"
      },
      "execution_count": 61,
      "outputs": [
        {
          "output_type": "display_data",
          "data": {
            "text/plain": [
              "<Figure size 432x288 with 1 Axes>"
            ],
            "image/png": "[encoded data removed]"
          },
          "metadata": {
            "needs_background": "light"
          }
        }
      ]
    },
    {
      "cell_type": "markdown",
      "source": [
        "**Checando Estacionariedade**"
      ],
      "metadata": {
        "id": "RpMmtSVvRMQB"
      }
    },
    {
      "cell_type": "code",
      "source": [
        "resultado = adfuller(series.values)\n",
        "print('\\nADF teste: %f' % resultado[0])\n",
        "print('\\np-value: %f' % resultado[1])\n",
        "print('\\nCritical Values:')\n",
        "for key, value in resultado[4].items():\n",
        "  print('\\t%s: %.3f' % (key, value))"
      ],
      "metadata": {
        "colab": {
          "base_uri": "https://localhost:8080/"
        },
        "id": "FiHB2FGgRWAX",
        "outputId": "903c9497-208f-445d-e539-083c296e29ef"
      },
      "execution_count": 64,
      "outputs": [
        {
          "output_type": "stream",
          "name": "stdout",
          "text": [
            "\n",
            "ADF teste: -2.295554\n",
            "\n",
            "p-value: 0.173406\n",
            "\n",
            "Critical Values:\n",
            "\t1%: -3.525\n",
            "\t5%: -2.903\n",
            "\t10%: -2.589\n"
          ]
        }
      ]
    },
    {
      "cell_type": "markdown",
      "source": [
        "A serie nao eh estacionaria"
      ],
      "metadata": {
        "id": "brrLm1RtULuI"
      }
    },
    {
      "cell_type": "markdown",
      "source": [
        "**Criando baseline**"
      ],
      "metadata": {
        "id": "-2Tk7vYfURLp"
      }
    },
    {
      "cell_type": "code",
      "source": [
        "X = series.values"
      ],
      "metadata": {
        "id": "Cw6PNnUJUXp5"
      },
      "execution_count": 65,
      "outputs": []
    },
    {
      "cell_type": "code",
      "source": [
        "train_size = int(len(X) * 0.50)"
      ],
      "metadata": {
        "id": "za5Ce8VnUmua"
      },
      "execution_count": 66,
      "outputs": []
    },
    {
      "cell_type": "code",
      "source": [
        "train = X[0:train_size]\n",
        "test = X[train_size:]"
      ],
      "metadata": {
        "id": "Jm8rqIDIUmrn"
      },
      "execution_count": 67,
      "outputs": []
    },
    {
      "cell_type": "code",
      "source": [
        "history = [x for x in train]"
      ],
      "metadata": {
        "id": "vlsh2Yd8UmpE"
      },
      "execution_count": 68,
      "outputs": []
    },
    {
      "cell_type": "code",
      "source": [
        "history[:10]"
      ],
      "metadata": {
        "colab": {
          "base_uri": "https://localhost:8080/"
        },
        "id": "NFwZRXc0Ummp",
        "outputId": "c6b63884-06c1-4cbd-9c23-4d468f0f19bb"
      },
      "execution_count": 69,
      "outputs": [
        {
          "output_type": "execute_result",
          "data": {
            "text/plain": [
              "[2815, 2672, 2755, 2721, 2946, 3036, 2282, 2212, 2922, 4301]"
            ]
          },
          "metadata": {},
          "execution_count": 69
        }
      ]
    },
    {
      "cell_type": "code",
      "source": [
        "history[-1]"
      ],
      "metadata": {
        "colab": {
          "base_uri": "https://localhost:8080/"
        },
        "id": "4mtxmtxEUmjo",
        "outputId": "da960d65-1fef-4f31-a29f-15c0da429205"
      },
      "execution_count": 70,
      "outputs": [
        {
          "output_type": "execute_result",
          "data": {
            "text/plain": [
              "4539"
            ]
          },
          "metadata": {},
          "execution_count": 70
        }
      ]
    },
    {
      "cell_type": "code",
      "source": [
        "predictions = list()"
      ],
      "metadata": {
        "id": "sZ-AQjYJUmgz"
      },
      "execution_count": 71,
      "outputs": []
    },
    {
      "cell_type": "code",
      "source": [
        "for i in range(len(test)):\n",
        "  valor_predito = history[-1]\n",
        "  predictions.append(valor_predito)\n",
        "  valor_real = test[i]\n",
        "  history.append(valor_real)\n",
        "  print('Valor Predito=%.3f, Valor }Esperado=%3.f' % (valor_predito, valor_real))"
      ],
      "metadata": {
        "colab": {
          "base_uri": "https://localhost:8080/"
        },
        "id": "wOqlanyiVKsX",
        "outputId": "a9ec0fd7-4316-4e91-ab2e-7f2d70321b88"
      },
      "execution_count": 72,
      "outputs": [
        {
          "output_type": "stream",
          "name": "stdout",
          "text": [
            "Valor Predito=4539.000, Valor }Esperado=3663\n",
            "Valor Predito=3663.000, Valor }Esperado=1643\n",
            "Valor Predito=1643.000, Valor }Esperado=4739\n",
            "Valor Predito=4739.000, Valor }Esperado=5428\n",
            "Valor Predito=5428.000, Valor }Esperado=8314\n",
            "Valor Predito=8314.000, Valor }Esperado=10651\n",
            "Valor Predito=10651.000, Valor }Esperado=3633\n",
            "Valor Predito=3633.000, Valor }Esperado=4292\n",
            "Valor Predito=4292.000, Valor }Esperado=4154\n",
            "Valor Predito=4154.000, Valor }Esperado=4121\n",
            "Valor Predito=4121.000, Valor }Esperado=4647\n",
            "Valor Predito=4647.000, Valor }Esperado=4753\n",
            "Valor Predito=4753.000, Valor }Esperado=3965\n",
            "Valor Predito=3965.000, Valor }Esperado=1723\n",
            "Valor Predito=1723.000, Valor }Esperado=5048\n",
            "Valor Predito=5048.000, Valor }Esperado=6922\n",
            "Valor Predito=6922.000, Valor }Esperado=9858\n",
            "Valor Predito=9858.000, Valor }Esperado=11331\n",
            "Valor Predito=11331.000, Valor }Esperado=4016\n",
            "Valor Predito=4016.000, Valor }Esperado=3957\n",
            "Valor Predito=3957.000, Valor }Esperado=4510\n",
            "Valor Predito=4510.000, Valor }Esperado=4276\n",
            "Valor Predito=4276.000, Valor }Esperado=4968\n",
            "Valor Predito=4968.000, Valor }Esperado=4677\n",
            "Valor Predito=4677.000, Valor }Esperado=3523\n",
            "Valor Predito=3523.000, Valor }Esperado=1821\n",
            "Valor Predito=1821.000, Valor }Esperado=5222\n",
            "Valor Predito=5222.000, Valor }Esperado=6872\n",
            "Valor Predito=6872.000, Valor }Esperado=10803\n",
            "Valor Predito=10803.000, Valor }Esperado=13916\n",
            "Valor Predito=13916.000, Valor }Esperado=2639\n",
            "Valor Predito=2639.000, Valor }Esperado=2899\n",
            "Valor Predito=2899.000, Valor }Esperado=3370\n",
            "Valor Predito=3370.000, Valor }Esperado=3740\n",
            "Valor Predito=3740.000, Valor }Esperado=2927\n",
            "Valor Predito=2927.000, Valor }Esperado=3986\n",
            "Valor Predito=3986.000, Valor }Esperado=4217\n",
            "Valor Predito=4217.000, Valor }Esperado=1738\n",
            "Valor Predito=1738.000, Valor }Esperado=5221\n",
            "Valor Predito=5221.000, Valor }Esperado=6424\n",
            "Valor Predito=6424.000, Valor }Esperado=9842\n",
            "Valor Predito=9842.000, Valor }Esperado=13076\n"
          ]
        }
      ]
    },
    {
      "cell_type": "code",
      "source": [
        "rmse = sqrt(mean_squared_error(test, predictions))\n",
        "print('RMSE: %.3f' % rmse)"
      ],
      "metadata": {
        "colab": {
          "base_uri": "https://localhost:8080/"
        },
        "id": "2-R5HsIxVKpc",
        "outputId": "38bbaace-51ed-4bfd-b2d3-65457b94adc7"
      },
      "execution_count": 74,
      "outputs": [
        {
          "output_type": "stream",
          "name": "stdout",
          "text": [
            "RMSE: 3004.339\n"
          ]
        }
      ]
    },
    {
      "cell_type": "markdown",
      "source": [
        "**Criando o modelo com o prophet**\n",
        "\n"
      ],
      "metadata": {
        "id": "dHRDyiJ-WtY4"
      }
    },
    {
      "cell_type": "code",
      "source": [
        "dataframe = pd.DataFrame({'ds': dataset.index, 'y': dataset.values})"
      ],
      "metadata": {
        "id": "iUQJTbhmVKnR"
      },
      "execution_count": 76,
      "outputs": []
    },
    {
      "cell_type": "code",
      "source": [
        "dataframe.head()"
      ],
      "metadata": {
        "colab": {
          "base_uri": "https://localhost:8080/",
          "height": 203
        },
        "id": "AgCg5Cq0VKky",
        "outputId": "7f13f96a-bb27-42a3-fcb5-431d4f888bcf"
      },
      "execution_count": 78,
      "outputs": [
        {
          "output_type": "execute_result",
          "data": {
            "text/plain": [
              "          ds     y\n",
              "0 1964-01-01  2815\n",
              "1 1964-02-01  2672\n",
              "2 1964-03-01  2755\n",
              "3 1964-04-01  2721\n",
              "4 1964-05-01  2946"
            ],
            "text/html": [
              "\n",
              "  <div id=\"df-05cfeecb-24d4-4835-9ced-8253a6b85cd5\">\n",
              "    <div class=\"colab-df-container\">\n",
              "      <div>\n",
              "<style scoped>\n",
              "    .dataframe tbody tr th:only-of-type {\n",
              "        vertical-align: middle;\n",
              "    }\n",
              "\n",
              "    .dataframe tbody tr th {\n",
              "        vertical-align: top;\n",
              "    }\n",
              "\n",
              "    .dataframe thead th {\n",
              "        text-align: right;\n",
              "    }\n",
              "</style>\n",
              "<table border=\"1\" class=\"dataframe\">\n",
              "  <thead>\n",
              "    <tr style=\"text-align: right;\">\n",
              "      <th></th>\n",
              "      <th>ds</th>\n",
              "      <th>y</th>\n",
              "    </tr>\n",
              "  </thead>\n",
              "  <tbody>\n",
              "    <tr>\n",
              "      <th>0</th>\n",
              "      <td>1964-01-01</td>\n",
              "      <td>2815</td>\n",
              "    </tr>\n",
              "    <tr>\n",
              "      <th>1</th>\n",
              "      <td>1964-02-01</td>\n",
              "      <td>2672</td>\n",
              "    </tr>\n",
              "    <tr>\n",
              "      <th>2</th>\n",
              "      <td>1964-03-01</td>\n",
              "      <td>2755</td>\n",
              "    </tr>\n",
              "    <tr>\n",
              "      <th>3</th>\n",
              "      <td>1964-04-01</td>\n",
              "      <td>2721</td>\n",
              "    </tr>\n",
              "    <tr>\n",
              "      <th>4</th>\n",
              "      <td>1964-05-01</td>\n",
              "      <td>2946</td>\n",
              "    </tr>\n",
              "  </tbody>\n",
              "</table>\n",
              "</div>\n",
              "      <button class=\"colab-df-convert\" onclick=\"convertToInteractive('df-05cfeecb-24d4-4835-9ced-8253a6b85cd5')\"\n",
              "              title=\"Convert this dataframe to an interactive table.\"\n",
              "              style=\"display:none;\">\n",
              "        \n",
              "  <svg xmlns=\"http://www.w3.org/2000/svg\" height=\"24px\"viewBox=\"0 0 24 24\"\n",
              "       width=\"24px\">\n",
              "    <path d=\"M0 0h24v24H0V0z\" fill=\"none\"/>\n",
              "    <path d=\"M18.56 5.44l.94 2.06.94-2.06 2.06-.94-2.06-.94-.94-2.06-.94 2.06-2.06.94zm-11 1L8.5 8.5l.94-2.06 2.06-.94-2.06-.94L8.5 2.5l-.94 2.06-2.06.94zm10 10l.94 2.06.94-2.06 2.06-.94-2.06-.94-.94-2.06-.94 2.06-2.06.94z\"/><path d=\"M17.41 7.96l-1.37-1.37c-.4-.4-.92-.59-1.43-.59-.52 0-1.04.2-1.43.59L10.3 9.45l-7.72 7.72c-.78.78-.78 2.05 0 2.83L4 21.41c.39.39.9.59 1.41.59.51 0 1.02-.2 1.41-.59l7.78-7.78 2.81-2.81c.8-.78.8-2.07 0-2.86zM5.41 20L4 18.59l7.72-7.72 1.47 1.35L5.41 20z\"/>\n",
              "  </svg>\n",
              "      </button>\n",
              "      \n",
              "  <style>\n",
              "    .colab-df-container {\n",
              "      display:flex;\n",
              "      flex-wrap:wrap;\n",
              "      gap: 12px;\n",
              "    }\n",
              "\n",
              "    .colab-df-convert {\n",
              "      background-color: #E8F0FE;\n",
              "      border: none;\n",
              "      border-radius: 50%;\n",
              "      cursor: pointer;\n",
              "      display: none;\n",
              "      fill: #1967D2;\n",
              "      height: 32px;\n",
              "      padding: 0 0 0 0;\n",
              "      width: 32px;\n",
              "    }\n",
              "\n",
              "    .colab-df-convert:hover {\n",
              "      background-color: #E2EBFA;\n",
              "      box-shadow: 0px 1px 2px rgba(60, 64, 67, 0.3), 0px 1px 3px 1px rgba(60, 64, 67, 0.15);\n",
              "      fill: #174EA6;\n",
              "    }\n",
              "\n",
              "    [theme=dark] .colab-df-convert {\n",
              "      background-color: #3B4455;\n",
              "      fill: #D2E3FC;\n",
              "    }\n",
              "\n",
              "    [theme=dark] .colab-df-convert:hover {\n",
              "      background-color: #434B5C;\n",
              "      box-shadow: 0px 1px 3px 1px rgba(0, 0, 0, 0.15);\n",
              "      filter: drop-shadow(0px 1px 2px rgba(0, 0, 0, 0.3));\n",
              "      fill: #FFFFFF;\n",
              "    }\n",
              "  </style>\n",
              "\n",
              "      <script>\n",
              "        const buttonEl =\n",
              "          document.querySelector('#df-05cfeecb-24d4-4835-9ced-8253a6b85cd5 button.colab-df-convert');\n",
              "        buttonEl.style.display =\n",
              "          google.colab.kernel.accessAllowed ? 'block' : 'none';\n",
              "\n",
              "        async function convertToInteractive(key) {\n",
              "          const element = document.querySelector('#df-05cfeecb-24d4-4835-9ced-8253a6b85cd5');\n",
              "          const dataTable =\n",
              "            await google.colab.kernel.invokeFunction('convertToInteractive',\n",
              "                                                     [key], {});\n",
              "          if (!dataTable) return;\n",
              "\n",
              "          const docLinkHtml = 'Like what you see? Visit the ' +\n",
              "            '<a target=\"_blank\" href=https://colab.research.google.com/notebooks/data_table.ipynb>data table notebook</a>'\n",
              "            + ' to learn more about interactive tables.';\n",
              "          element.innerHTML = '';\n",
              "          dataTable['output_type'] = 'display_data';\n",
              "          await google.colab.output.renderOutput(dataTable, element);\n",
              "          const docLink = document.createElement('div');\n",
              "          docLink.innerHTML = docLinkHtml;\n",
              "          element.appendChild(docLink);\n",
              "        }\n",
              "      </script>\n",
              "    </div>\n",
              "  </div>\n",
              "  "
            ]
          },
          "metadata": {},
          "execution_count": 78
        }
      ]
    },
    {
      "cell_type": "code",
      "source": [
        "model = Prophet()"
      ],
      "metadata": {
        "id": "iDxa0KjeXMMs"
      },
      "execution_count": 79,
      "outputs": []
    },
    {
      "cell_type": "code",
      "source": [
        "model.fit(dataframe)"
      ],
      "metadata": {
        "colab": {
          "base_uri": "https://localhost:8080/"
        },
        "id": "PIGiPGyIXMKH",
        "outputId": "499d3fee-19ba-475e-9bac-86e4e6eca877"
      },
      "execution_count": 80,
      "outputs": [
        {
          "output_type": "stream",
          "name": "stderr",
          "text": [
            "INFO:fbprophet:Disabling weekly seasonality. Run prophet with weekly_seasonality=True to override this.\n",
            "INFO:fbprophet:Disabling daily seasonality. Run prophet with daily_seasonality=True to override this.\n"
          ]
        },
        {
          "output_type": "execute_result",
          "data": {
            "text/plain": [
              "<fbprophet.forecaster.Prophet at 0x7fcee1e3f610>"
            ]
          },
          "metadata": {},
          "execution_count": 80
        }
      ]
    },
    {
      "cell_type": "code",
      "source": [
        "futuro = model.make_future_dataframe(periods = 12, freq='M')"
      ],
      "metadata": {
        "id": "8K8waQBbXMHf"
      },
      "execution_count": 81,
      "outputs": []
    },
    {
      "cell_type": "code",
      "source": [
        "futuro"
      ],
      "metadata": {
        "colab": {
          "base_uri": "https://localhost:8080/",
          "height": 417
        },
        "id": "fSVpXeSmXMEl",
        "outputId": "45f01298-3b6b-48df-ce1d-75cae3c3fdbe"
      },
      "execution_count": 82,
      "outputs": [
        {
          "output_type": "execute_result",
          "data": {
            "text/plain": [
              "           ds\n",
              "0  1964-01-01\n",
              "1  1964-02-01\n",
              "2  1964-03-01\n",
              "3  1964-04-01\n",
              "4  1964-05-01\n",
              "..        ...\n",
              "91 1971-07-31\n",
              "92 1971-08-31\n",
              "93 1971-09-30\n",
              "94 1971-10-31\n",
              "95 1971-11-30\n",
              "\n",
              "[96 rows x 1 columns]"
            ],
            "text/html": [
              "\n",
              "  <div id=\"df-d2e95361-64d6-4f92-9fc9-3728e375bc37\">\n",
              "    <div class=\"colab-df-container\">\n",
              "      <div>\n",
              "<style scoped>\n",
              "    .dataframe tbody tr th:only-of-type {\n",
              "        vertical-align: middle;\n",
              "    }\n",
              "\n",
              "    .dataframe tbody tr th {\n",
              "        vertical-align: top;\n",
              "    }\n",
              "\n",
              "    .dataframe thead th {\n",
              "        text-align: right;\n",
              "    }\n",
              "</style>\n",
              "<table border=\"1\" class=\"dataframe\">\n",
              "  <thead>\n",
              "    <tr style=\"text-align: right;\">\n",
              "      <th></th>\n",
              "      <th>ds</th>\n",
              "    </tr>\n",
              "  </thead>\n",
              "  <tbody>\n",
              "    <tr>\n",
              "      <th>0</th>\n",
              "      <td>1964-01-01</td>\n",
              "    </tr>\n",
              "    <tr>\n",
              "      <th>1</th>\n",
              "      <td>1964-02-01</td>\n",
              "    </tr>\n",
              "    <tr>\n",
              "      <th>2</th>\n",
              "      <td>1964-03-01</td>\n",
              "    </tr>\n",
              "    <tr>\n",
              "      <th>3</th>\n",
              "      <td>1964-04-01</td>\n",
              "    </tr>\n",
              "    <tr>\n",
              "      <th>4</th>\n",
              "      <td>1964-05-01</td>\n",
              "    </tr>\n",
              "    <tr>\n",
              "      <th>...</th>\n",
              "      <td>...</td>\n",
              "    </tr>\n",
              "    <tr>\n",
              "      <th>91</th>\n",
              "      <td>1971-07-31</td>\n",
              "    </tr>\n",
              "    <tr>\n",
              "      <th>92</th>\n",
              "      <td>1971-08-31</td>\n",
              "    </tr>\n",
              "    <tr>\n",
              "      <th>93</th>\n",
              "      <td>1971-09-30</td>\n",
              "    </tr>\n",
              "    <tr>\n",
              "      <th>94</th>\n",
              "      <td>1971-10-31</td>\n",
              "    </tr>\n",
              "    <tr>\n",
              "      <th>95</th>\n",
              "      <td>1971-11-30</td>\n",
              "    </tr>\n",
              "  </tbody>\n",
              "</table>\n",
              "<p>96 rows × 1 columns</p>\n",
              "</div>\n",
              "      <button class=\"colab-df-convert\" onclick=\"convertToInteractive('df-d2e95361-64d6-4f92-9fc9-3728e375bc37')\"\n",
              "              title=\"Convert this dataframe to an interactive table.\"\n",
              "              style=\"display:none;\">\n",
              "        \n",
              "  <svg xmlns=\"http://www.w3.org/2000/svg\" height=\"24px\"viewBox=\"0 0 24 24\"\n",
              "       width=\"24px\">\n",
              "    <path d=\"M0 0h24v24H0V0z\" fill=\"none\"/>\n",
              "    <path d=\"M18.56 5.44l.94 2.06.94-2.06 2.06-.94-2.06-.94-.94-2.06-.94 2.06-2.06.94zm-11 1L8.5 8.5l.94-2.06 2.06-.94-2.06-.94L8.5 2.5l-.94 2.06-2.06.94zm10 10l.94 2.06.94-2.06 2.06-.94-2.06-.94-.94-2.06-.94 2.06-2.06.94z\"/><path d=\"M17.41 7.96l-1.37-1.37c-.4-.4-.92-.59-1.43-.59-.52 0-1.04.2-1.43.59L10.3 9.45l-7.72 7.72c-.78.78-.78 2.05 0 2.83L4 21.41c.39.39.9.59 1.41.59.51 0 1.02-.2 1.41-.59l7.78-7.78 2.81-2.81c.8-.78.8-2.07 0-2.86zM5.41 20L4 18.59l7.72-7.72 1.47 1.35L5.41 20z\"/>\n",
              "  </svg>\n",
              "      </button>\n",
              "      \n",
              "  <style>\n",
              "    .colab-df-container {\n",
              "      display:flex;\n",
              "      flex-wrap:wrap;\n",
              "      gap: 12px;\n",
              "    }\n",
              "\n",
              "    .colab-df-convert {\n",
              "      background-color: #E8F0FE;\n",
              "      border: none;\n",
              "      border-radius: 50%;\n",
              "      cursor: pointer;\n",
              "      display: none;\n",
              "      fill: #1967D2;\n",
              "      height: 32px;\n",
              "      padding: 0 0 0 0;\n",
              "      width: 32px;\n",
              "    }\n",
              "\n",
              "    .colab-df-convert:hover {\n",
              "      background-color: #E2EBFA;\n",
              "      box-shadow: 0px 1px 2px rgba(60, 64, 67, 0.3), 0px 1px 3px 1px rgba(60, 64, 67, 0.15);\n",
              "      fill: #174EA6;\n",
              "    }\n",
              "\n",
              "    [theme=dark] .colab-df-convert {\n",
              "      background-color: #3B4455;\n",
              "      fill: #D2E3FC;\n",
              "    }\n",
              "\n",
              "    [theme=dark] .colab-df-convert:hover {\n",
              "      background-color: #434B5C;\n",
              "      box-shadow: 0px 1px 3px 1px rgba(0, 0, 0, 0.15);\n",
              "      filter: drop-shadow(0px 1px 2px rgba(0, 0, 0, 0.3));\n",
              "      fill: #FFFFFF;\n",
              "    }\n",
              "  </style>\n",
              "\n",
              "      <script>\n",
              "        const buttonEl =\n",
              "          document.querySelector('#df-d2e95361-64d6-4f92-9fc9-3728e375bc37 button.colab-df-convert');\n",
              "        buttonEl.style.display =\n",
              "          google.colab.kernel.accessAllowed ? 'block' : 'none';\n",
              "\n",
              "        async function convertToInteractive(key) {\n",
              "          const element = document.querySelector('#df-d2e95361-64d6-4f92-9fc9-3728e375bc37');\n",
              "          const dataTable =\n",
              "            await google.colab.kernel.invokeFunction('convertToInteractive',\n",
              "                                                     [key], {});\n",
              "          if (!dataTable) return;\n",
              "\n",
              "          const docLinkHtml = 'Like what you see? Visit the ' +\n",
              "            '<a target=\"_blank\" href=https://colab.research.google.com/notebooks/data_table.ipynb>data table notebook</a>'\n",
              "            + ' to learn more about interactive tables.';\n",
              "          element.innerHTML = '';\n",
              "          dataTable['output_type'] = 'display_data';\n",
              "          await google.colab.output.renderOutput(dataTable, element);\n",
              "          const docLink = document.createElement('div');\n",
              "          docLink.innerHTML = docLinkHtml;\n",
              "          element.appendChild(docLink);\n",
              "        }\n",
              "      </script>\n",
              "    </div>\n",
              "  </div>\n",
              "  "
            ]
          },
          "metadata": {},
          "execution_count": 82
        }
      ]
    },
    {
      "cell_type": "code",
      "source": [
        "saida = model.predict(futuro)"
      ],
      "metadata": {
        "id": "I7Tt1XIxXcta"
      },
      "execution_count": 83,
      "outputs": []
    },
    {
      "cell_type": "code",
      "source": [
        "saida.head()"
      ],
      "metadata": {
        "colab": {
          "base_uri": "https://localhost:8080/",
          "height": 351
        },
        "id": "B8YJmqwjXcqi",
        "outputId": "02eb9b1f-bd42-4337-d57a-cf1de55c92ad"
      },
      "execution_count": 84,
      "outputs": [
        {
          "output_type": "execute_result",
          "data": {
            "text/plain": [
              "          ds        trend   yhat_lower   yhat_upper  trend_lower  trend_upper  \\\n",
              "0 1964-01-01  3618.160320  1614.172960  3591.703265  3618.160320  3618.160320   \n",
              "1 1964-02-01  3647.003184  1323.710223  3322.690762  3647.003184  3647.003184   \n",
              "2 1964-03-01  3673.985217  1882.035348  3889.669970  3673.985217  3673.985217   \n",
              "3 1964-04-01  3702.828081  1640.980503  3660.033074  3702.828081  3702.828081   \n",
              "4 1964-05-01  3730.740530  1987.316190  4035.744221  3730.740530  3730.740530   \n",
              "\n",
              "   additive_terms  additive_terms_lower  additive_terms_upper       yearly  \\\n",
              "0     -997.738132           -997.738132           -997.738132  -997.738132   \n",
              "1    -1341.254350          -1341.254350          -1341.254350 -1341.254350   \n",
              "2     -731.454674           -731.454674           -731.454674  -731.454674   \n",
              "3    -1043.890537          -1043.890537          -1043.890537 -1043.890537   \n",
              "4     -693.680786           -693.680786           -693.680786  -693.680786   \n",
              "\n",
              "   yearly_lower  yearly_upper  multiplicative_terms  \\\n",
              "0   -997.738132   -997.738132                   0.0   \n",
              "1  -1341.254350  -1341.254350                   0.0   \n",
              "2   -731.454674   -731.454674                   0.0   \n",
              "3  -1043.890537  -1043.890537                   0.0   \n",
              "4   -693.680786   -693.680786                   0.0   \n",
              "\n",
              "   multiplicative_terms_lower  multiplicative_terms_upper         yhat  \n",
              "0                         0.0                         0.0  2620.422189  \n",
              "1                         0.0                         0.0  2305.748834  \n",
              "2                         0.0                         0.0  2942.530544  \n",
              "3                         0.0                         0.0  2658.937544  \n",
              "4                         0.0                         0.0  3037.059744  "
            ],
            "text/html": [
              "\n",
              "  <div id=\"df-1b3630ec-3e04-4858-984f-10902650d55e\">\n",
              "    <div class=\"colab-df-container\">\n",
              "      <div>\n",
              "<style scoped>\n",
              "    .dataframe tbody tr th:only-of-type {\n",
              "        vertical-align: middle;\n",
              "    }\n",
              "\n",
              "    .dataframe tbody tr th {\n",
              "        vertical-align: top;\n",
              "    }\n",
              "\n",
              "    .dataframe thead th {\n",
              "        text-align: right;\n",
              "    }\n",
              "</style>\n",
              "<table border=\"1\" class=\"dataframe\">\n",
              "  <thead>\n",
              "    <tr style=\"text-align: right;\">\n",
              "      <th></th>\n",
              "      <th>ds</th>\n",
              "      <th>trend</th>\n",
              "      <th>yhat_lower</th>\n",
              "      <th>yhat_upper</th>\n",
              "      <th>trend_lower</th>\n",
              "      <th>trend_upper</th>\n",
              "      <th>additive_terms</th>\n",
              "      <th>additive_terms_lower</th>\n",
              "      <th>additive_terms_upper</th>\n",
              "      <th>yearly</th>\n",
              "      <th>yearly_lower</th>\n",
              "      <th>yearly_upper</th>\n",
              "      <th>multiplicative_terms</th>\n",
              "      <th>multiplicative_terms_lower</th>\n",
              "      <th>multiplicative_terms_upper</th>\n",
              "      <th>yhat</th>\n",
              "    </tr>\n",
              "  </thead>\n",
              "  <tbody>\n",
              "    <tr>\n",
              "      <th>0</th>\n",
              "      <td>1964-01-01</td>\n",
              "      <td>3618.160320</td>\n",
              "      <td>1614.172960</td>\n",
              "      <td>3591.703265</td>\n",
              "      <td>3618.160320</td>\n",
              "      <td>3618.160320</td>\n",
              "      <td>-997.738132</td>\n",
              "      <td>-997.738132</td>\n",
              "      <td>-997.738132</td>\n",
              "      <td>-997.738132</td>\n",
              "      <td>-997.738132</td>\n",
              "      <td>-997.738132</td>\n",
              "      <td>0.0</td>\n",
              "      <td>0.0</td>\n",
              "      <td>0.0</td>\n",
              "      <td>2620.422189</td>\n",
              "    </tr>\n",
              "    <tr>\n",
              "      <th>1</th>\n",
              "      <td>1964-02-01</td>\n",
              "      <td>3647.003184</td>\n",
              "      <td>1323.710223</td>\n",
              "      <td>3322.690762</td>\n",
              "      <td>3647.003184</td>\n",
              "      <td>3647.003184</td>\n",
              "      <td>-1341.254350</td>\n",
              "      <td>-1341.254350</td>\n",
              "      <td>-1341.254350</td>\n",
              "      <td>-1341.254350</td>\n",
              "      <td>-1341.254350</td>\n",
              "      <td>-1341.254350</td>\n",
              "      <td>0.0</td>\n",
              "      <td>0.0</td>\n",
              "      <td>0.0</td>\n",
              "      <td>2305.748834</td>\n",
              "    </tr>\n",
              "    <tr>\n",
              "      <th>2</th>\n",
              "      <td>1964-03-01</td>\n",
              "      <td>3673.985217</td>\n",
              "      <td>1882.035348</td>\n",
              "      <td>3889.669970</td>\n",
              "      <td>3673.985217</td>\n",
              "      <td>3673.985217</td>\n",
              "      <td>-731.454674</td>\n",
              "      <td>-731.454674</td>\n",
              "      <td>-731.454674</td>\n",
              "      <td>-731.454674</td>\n",
              "      <td>-731.454674</td>\n",
              "      <td>-731.454674</td>\n",
              "      <td>0.0</td>\n",
              "      <td>0.0</td>\n",
              "      <td>0.0</td>\n",
              "      <td>2942.530544</td>\n",
              "    </tr>\n",
              "    <tr>\n",
              "      <th>3</th>\n",
              "      <td>1964-04-01</td>\n",
              "      <td>3702.828081</td>\n",
              "      <td>1640.980503</td>\n",
              "      <td>3660.033074</td>\n",
              "      <td>3702.828081</td>\n",
              "      <td>3702.828081</td>\n",
              "      <td>-1043.890537</td>\n",
              "      <td>-1043.890537</td>\n",
              "      <td>-1043.890537</td>\n",
              "      <td>-1043.890537</td>\n",
              "      <td>-1043.890537</td>\n",
              "      <td>-1043.890537</td>\n",
              "      <td>0.0</td>\n",
              "      <td>0.0</td>\n",
              "      <td>0.0</td>\n",
              "      <td>2658.937544</td>\n",
              "    </tr>\n",
              "    <tr>\n",
              "      <th>4</th>\n",
              "      <td>1964-05-01</td>\n",
              "      <td>3730.740530</td>\n",
              "      <td>1987.316190</td>\n",
              "      <td>4035.744221</td>\n",
              "      <td>3730.740530</td>\n",
              "      <td>3730.740530</td>\n",
              "      <td>-693.680786</td>\n",
              "      <td>-693.680786</td>\n",
              "      <td>-693.680786</td>\n",
              "      <td>-693.680786</td>\n",
              "      <td>-693.680786</td>\n",
              "      <td>-693.680786</td>\n",
              "      <td>0.0</td>\n",
              "      <td>0.0</td>\n",
              "      <td>0.0</td>\n",
              "      <td>3037.059744</td>\n",
              "    </tr>\n",
              "  </tbody>\n",
              "</table>\n",
              "</div>\n",
              "      <button class=\"colab-df-convert\" onclick=\"convertToInteractive('df-1b3630ec-3e04-4858-984f-10902650d55e')\"\n",
              "              title=\"Convert this dataframe to an interactive table.\"\n",
              "              style=\"display:none;\">\n",
              "        \n",
              "  <svg xmlns=\"http://www.w3.org/2000/svg\" height=\"24px\"viewBox=\"0 0 24 24\"\n",
              "       width=\"24px\">\n",
              "    <path d=\"M0 0h24v24H0V0z\" fill=\"none\"/>\n",
              "    <path d=\"M18.56 5.44l.94 2.06.94-2.06 2.06-.94-2.06-.94-.94-2.06-.94 2.06-2.06.94zm-11 1L8.5 8.5l.94-2.06 2.06-.94-2.06-.94L8.5 2.5l-.94 2.06-2.06.94zm10 10l.94 2.06.94-2.06 2.06-.94-2.06-.94-.94-2.06-.94 2.06-2.06.94z\"/><path d=\"M17.41 7.96l-1.37-1.37c-.4-.4-.92-.59-1.43-.59-.52 0-1.04.2-1.43.59L10.3 9.45l-7.72 7.72c-.78.78-.78 2.05 0 2.83L4 21.41c.39.39.9.59 1.41.59.51 0 1.02-.2 1.41-.59l7.78-7.78 2.81-2.81c.8-.78.8-2.07 0-2.86zM5.41 20L4 18.59l7.72-7.72 1.47 1.35L5.41 20z\"/>\n",
              "  </svg>\n",
              "      </button>\n",
              "      \n",
              "  <style>\n",
              "    .colab-df-container {\n",
              "      display:flex;\n",
              "      flex-wrap:wrap;\n",
              "      gap: 12px;\n",
              "    }\n",
              "\n",
              "    .colab-df-convert {\n",
              "      background-color: #E8F0FE;\n",
              "      border: none;\n",
              "      border-radius: 50%;\n",
              "      cursor: pointer;\n",
              "      display: none;\n",
              "      fill: #1967D2;\n",
              "      height: 32px;\n",
              "      padding: 0 0 0 0;\n",
              "      width: 32px;\n",
              "    }\n",
              "\n",
              "    .colab-df-convert:hover {\n",
              "      background-color: #E2EBFA;\n",
              "      box-shadow: 0px 1px 2px rgba(60, 64, 67, 0.3), 0px 1px 3px 1px rgba(60, 64, 67, 0.15);\n",
              "      fill: #174EA6;\n",
              "    }\n",
              "\n",
              "    [theme=dark] .colab-df-convert {\n",
              "      background-color: #3B4455;\n",
              "      fill: #D2E3FC;\n",
              "    }\n",
              "\n",
              "    [theme=dark] .colab-df-convert:hover {\n",
              "      background-color: #434B5C;\n",
              "      box-shadow: 0px 1px 3px 1px rgba(0, 0, 0, 0.15);\n",
              "      filter: drop-shadow(0px 1px 2px rgba(0, 0, 0, 0.3));\n",
              "      fill: #FFFFFF;\n",
              "    }\n",
              "  </style>\n",
              "\n",
              "      <script>\n",
              "        const buttonEl =\n",
              "          document.querySelector('#df-1b3630ec-3e04-4858-984f-10902650d55e button.colab-df-convert');\n",
              "        buttonEl.style.display =\n",
              "          google.colab.kernel.accessAllowed ? 'block' : 'none';\n",
              "\n",
              "        async function convertToInteractive(key) {\n",
              "          const element = document.querySelector('#df-1b3630ec-3e04-4858-984f-10902650d55e');\n",
              "          const dataTable =\n",
              "            await google.colab.kernel.invokeFunction('convertToInteractive',\n",
              "                                                     [key], {});\n",
              "          if (!dataTable) return;\n",
              "\n",
              "          const docLinkHtml = 'Like what you see? Visit the ' +\n",
              "            '<a target=\"_blank\" href=https://colab.research.google.com/notebooks/data_table.ipynb>data table notebook</a>'\n",
              "            + ' to learn more about interactive tables.';\n",
              "          element.innerHTML = '';\n",
              "          dataTable['output_type'] = 'display_data';\n",
              "          await google.colab.output.renderOutput(dataTable, element);\n",
              "          const docLink = document.createElement('div');\n",
              "          docLink.innerHTML = docLinkHtml;\n",
              "          element.appendChild(docLink);\n",
              "        }\n",
              "      </script>\n",
              "    </div>\n",
              "  </div>\n",
              "  "
            ]
          },
          "metadata": {},
          "execution_count": 84
        }
      ]
    },
    {
      "cell_type": "code",
      "source": [
        "saida[['ds', 'yhat', 'yhat_lower', 'yhat_upper']].tail(7)"
      ],
      "metadata": {
        "colab": {
          "base_uri": "https://localhost:8080/",
          "height": 265
        },
        "id": "pIiU7UKZXcoh",
        "outputId": "1d38ee49-413b-4c87-b9e7-e66ba1a19657"
      },
      "execution_count": 85,
      "outputs": [
        {
          "output_type": "execute_result",
          "data": {
            "text/plain": [
              "           ds          yhat    yhat_lower    yhat_upper\n",
              "89 1971-05-31   5977.185379   4975.970654   6994.103863\n",
              "90 1971-06-30   5759.321313   4803.362582   6728.847335\n",
              "91 1971-07-31   2021.631153    937.509681   3108.381563\n",
              "92 1971-08-31   6172.252498   5144.488845   7137.374946\n",
              "93 1971-09-30   5817.775364   4840.132817   6868.781601\n",
              "94 1971-10-31   9425.421322   8378.409357  10470.949046\n",
              "95 1971-11-30  12825.096661  11804.695732  13829.573636"
            ],
            "text/html": [
              "\n",
              "  <div id=\"df-590dc170-e92e-4bbc-a8c8-767bb5e41ec6\">\n",
              "    <div class=\"colab-df-container\">\n",
              "      <div>\n",
              "<style scoped>\n",
              "    .dataframe tbody tr th:only-of-type {\n",
              "        vertical-align: middle;\n",
              "    }\n",
              "\n",
              "    .dataframe tbody tr th {\n",
              "        vertical-align: top;\n",
              "    }\n",
              "\n",
              "    .dataframe thead th {\n",
              "        text-align: right;\n",
              "    }\n",
              "</style>\n",
              "<table border=\"1\" class=\"dataframe\">\n",
              "  <thead>\n",
              "    <tr style=\"text-align: right;\">\n",
              "      <th></th>\n",
              "      <th>ds</th>\n",
              "      <th>yhat</th>\n",
              "      <th>yhat_lower</th>\n",
              "      <th>yhat_upper</th>\n",
              "    </tr>\n",
              "  </thead>\n",
              "  <tbody>\n",
              "    <tr>\n",
              "      <th>89</th>\n",
              "      <td>1971-05-31</td>\n",
              "      <td>5977.185379</td>\n",
              "      <td>4975.970654</td>\n",
              "      <td>6994.103863</td>\n",
              "    </tr>\n",
              "    <tr>\n",
              "      <th>90</th>\n",
              "      <td>1971-06-30</td>\n",
              "      <td>5759.321313</td>\n",
              "      <td>4803.362582</td>\n",
              "      <td>6728.847335</td>\n",
              "    </tr>\n",
              "    <tr>\n",
              "      <th>91</th>\n",
              "      <td>1971-07-31</td>\n",
              "      <td>2021.631153</td>\n",
              "      <td>937.509681</td>\n",
              "      <td>3108.381563</td>\n",
              "    </tr>\n",
              "    <tr>\n",
              "      <th>92</th>\n",
              "      <td>1971-08-31</td>\n",
              "      <td>6172.252498</td>\n",
              "      <td>5144.488845</td>\n",
              "      <td>7137.374946</td>\n",
              "    </tr>\n",
              "    <tr>\n",
              "      <th>93</th>\n",
              "      <td>1971-09-30</td>\n",
              "      <td>5817.775364</td>\n",
              "      <td>4840.132817</td>\n",
              "      <td>6868.781601</td>\n",
              "    </tr>\n",
              "    <tr>\n",
              "      <th>94</th>\n",
              "      <td>1971-10-31</td>\n",
              "      <td>9425.421322</td>\n",
              "      <td>8378.409357</td>\n",
              "      <td>10470.949046</td>\n",
              "    </tr>\n",
              "    <tr>\n",
              "      <th>95</th>\n",
              "      <td>1971-11-30</td>\n",
              "      <td>12825.096661</td>\n",
              "      <td>11804.695732</td>\n",
              "      <td>13829.573636</td>\n",
              "    </tr>\n",
              "  </tbody>\n",
              "</table>\n",
              "</div>\n",
              "      <button class=\"colab-df-convert\" onclick=\"convertToInteractive('df-590dc170-e92e-4bbc-a8c8-767bb5e41ec6')\"\n",
              "              title=\"Convert this dataframe to an interactive table.\"\n",
              "              style=\"display:none;\">\n",
              "        \n",
              "  <svg xmlns=\"http://www.w3.org/2000/svg\" height=\"24px\"viewBox=\"0 0 24 24\"\n",
              "       width=\"24px\">\n",
              "    <path d=\"M0 0h24v24H0V0z\" fill=\"none\"/>\n",
              "    <path d=\"M18.56 5.44l.94 2.06.94-2.06 2.06-.94-2.06-.94-.94-2.06-.94 2.06-2.06.94zm-11 1L8.5 8.5l.94-2.06 2.06-.94-2.06-.94L8.5 2.5l-.94 2.06-2.06.94zm10 10l.94 2.06.94-2.06 2.06-.94-2.06-.94-.94-2.06-.94 2.06-2.06.94z\"/><path d=\"M17.41 7.96l-1.37-1.37c-.4-.4-.92-.59-1.43-.59-.52 0-1.04.2-1.43.59L10.3 9.45l-7.72 7.72c-.78.78-.78 2.05 0 2.83L4 21.41c.39.39.9.59 1.41.59.51 0 1.02-.2 1.41-.59l7.78-7.78 2.81-2.81c.8-.78.8-2.07 0-2.86zM5.41 20L4 18.59l7.72-7.72 1.47 1.35L5.41 20z\"/>\n",
              "  </svg>\n",
              "      </button>\n",
              "      \n",
              "  <style>\n",
              "    .colab-df-container {\n",
              "      display:flex;\n",
              "      flex-wrap:wrap;\n",
              "      gap: 12px;\n",
              "    }\n",
              "\n",
              "    .colab-df-convert {\n",
              "      background-color: #E8F0FE;\n",
              "      border: none;\n",
              "      border-radius: 50%;\n",
              "      cursor: pointer;\n",
              "      display: none;\n",
              "      fill: #1967D2;\n",
              "      height: 32px;\n",
              "      padding: 0 0 0 0;\n",
              "      width: 32px;\n",
              "    }\n",
              "\n",
              "    .colab-df-convert:hover {\n",
              "      background-color: #E2EBFA;\n",
              "      box-shadow: 0px 1px 2px rgba(60, 64, 67, 0.3), 0px 1px 3px 1px rgba(60, 64, 67, 0.15);\n",
              "      fill: #174EA6;\n",
              "    }\n",
              "\n",
              "    [theme=dark] .colab-df-convert {\n",
              "      background-color: #3B4455;\n",
              "      fill: #D2E3FC;\n",
              "    }\n",
              "\n",
              "    [theme=dark] .colab-df-convert:hover {\n",
              "      background-color: #434B5C;\n",
              "      box-shadow: 0px 1px 3px 1px rgba(0, 0, 0, 0.15);\n",
              "      filter: drop-shadow(0px 1px 2px rgba(0, 0, 0, 0.3));\n",
              "      fill: #FFFFFF;\n",
              "    }\n",
              "  </style>\n",
              "\n",
              "      <script>\n",
              "        const buttonEl =\n",
              "          document.querySelector('#df-590dc170-e92e-4bbc-a8c8-767bb5e41ec6 button.colab-df-convert');\n",
              "        buttonEl.style.display =\n",
              "          google.colab.kernel.accessAllowed ? 'block' : 'none';\n",
              "\n",
              "        async function convertToInteractive(key) {\n",
              "          const element = document.querySelector('#df-590dc170-e92e-4bbc-a8c8-767bb5e41ec6');\n",
              "          const dataTable =\n",
              "            await google.colab.kernel.invokeFunction('convertToInteractive',\n",
              "                                                     [key], {});\n",
              "          if (!dataTable) return;\n",
              "\n",
              "          const docLinkHtml = 'Like what you see? Visit the ' +\n",
              "            '<a target=\"_blank\" href=https://colab.research.google.com/notebooks/data_table.ipynb>data table notebook</a>'\n",
              "            + ' to learn more about interactive tables.';\n",
              "          element.innerHTML = '';\n",
              "          dataTable['output_type'] = 'display_data';\n",
              "          await google.colab.output.renderOutput(dataTable, element);\n",
              "          const docLink = document.createElement('div');\n",
              "          docLink.innerHTML = docLinkHtml;\n",
              "          element.appendChild(docLink);\n",
              "        }\n",
              "      </script>\n",
              "    </div>\n",
              "  </div>\n",
              "  "
            ]
          },
          "metadata": {},
          "execution_count": 85
        }
      ]
    },
    {
      "cell_type": "markdown",
      "source": [
        "**Validando o modelo com Prophet**"
      ],
      "metadata": {
        "id": "n3CVidHdXuNy"
      }
    },
    {
      "cell_type": "code",
      "source": [
        "validation_df = pd.DataFrame({'ds': validation.index})"
      ],
      "metadata": {
        "id": "GleMywjaXcl3"
      },
      "execution_count": 86,
      "outputs": []
    },
    {
      "cell_type": "code",
      "source": [
        "validation_df['ds']"
      ],
      "metadata": {
        "colab": {
          "base_uri": "https://localhost:8080/"
        },
        "id": "MmNJkZ5AXcjE",
        "outputId": "ed01e657-7871-4151-d525-322ada28ede5"
      },
      "execution_count": 87,
      "outputs": [
        {
          "output_type": "execute_result",
          "data": {
            "text/plain": [
              "0    1971-01-01\n",
              "1    1971-02-01\n",
              "2    1971-03-01\n",
              "3    1971-04-01\n",
              "4    1971-05-01\n",
              "5    1971-06-01\n",
              "6    1971-07-01\n",
              "7    1971-08-01\n",
              "8    1971-09-01\n",
              "9    1971-10-01\n",
              "10   1971-11-01\n",
              "11   1971-12-01\n",
              "Name: ds, dtype: datetime64[ns]"
            ]
          },
          "metadata": {},
          "execution_count": 87
        }
      ]
    },
    {
      "cell_type": "code",
      "source": [
        "saida = model.predict(validation_df)"
      ],
      "metadata": {
        "id": "kkyh6eqOX7RC"
      },
      "execution_count": 88,
      "outputs": []
    },
    {
      "cell_type": "code",
      "source": [
        "saida[['ds', 'yhat', 'yhat_lower', 'yhat_upper']]"
      ],
      "metadata": {
        "colab": {
          "base_uri": "https://localhost:8080/",
          "height": 418
        },
        "id": "ja6T6LgQX7OM",
        "outputId": "64152930-7780-4566-a4fe-af71fa9c162c"
      },
      "execution_count": 89,
      "outputs": [
        {
          "output_type": "execute_result",
          "data": {
            "text/plain": [
              "           ds          yhat    yhat_lower    yhat_upper\n",
              "0  1971-01-01   4854.645972   3866.930026   5915.105597\n",
              "1  1971-02-01   4584.340221   3556.783693   5524.072975\n",
              "2  1971-03-01   4584.855106   3498.639304   5627.091335\n",
              "3  1971-04-01   5159.867778   4185.246256   6133.949734\n",
              "4  1971-05-01   5176.010282   4277.545554   6183.304402\n",
              "5  1971-06-01   5538.562459   4555.336635   6469.459222\n",
              "6  1971-07-01   5073.376627   4034.986221   6072.429050\n",
              "7  1971-08-01   2794.704575   1683.701828   3835.166246\n",
              "8  1971-09-01   5820.019910   4815.636615   6857.415276\n",
              "9  1971-10-01   6643.389926   5622.681270   7636.516206\n",
              "10 1971-11-01   9646.364038   8601.843784  10620.621317\n",
              "11 1971-12-01  12168.201568  11210.801859  13200.806536"
            ],
            "text/html": [
              "\n",
              "  <div id=\"df-f0fc3ad8-e1dd-42c4-be80-3dfad1dda0ea\">\n",
              "    <div class=\"colab-df-container\">\n",
              "      <div>\n",
              "<style scoped>\n",
              "    .dataframe tbody tr th:only-of-type {\n",
              "        vertical-align: middle;\n",
              "    }\n",
              "\n",
              "    .dataframe tbody tr th {\n",
              "        vertical-align: top;\n",
              "    }\n",
              "\n",
              "    .dataframe thead th {\n",
              "        text-align: right;\n",
              "    }\n",
              "</style>\n",
              "<table border=\"1\" class=\"dataframe\">\n",
              "  <thead>\n",
              "    <tr style=\"text-align: right;\">\n",
              "      <th></th>\n",
              "      <th>ds</th>\n",
              "      <th>yhat</th>\n",
              "      <th>yhat_lower</th>\n",
              "      <th>yhat_upper</th>\n",
              "    </tr>\n",
              "  </thead>\n",
              "  <tbody>\n",
              "    <tr>\n",
              "      <th>0</th>\n",
              "      <td>1971-01-01</td>\n",
              "      <td>4854.645972</td>\n",
              "      <td>3866.930026</td>\n",
              "      <td>5915.105597</td>\n",
              "    </tr>\n",
              "    <tr>\n",
              "      <th>1</th>\n",
              "      <td>1971-02-01</td>\n",
              "      <td>4584.340221</td>\n",
              "      <td>3556.783693</td>\n",
              "      <td>5524.072975</td>\n",
              "    </tr>\n",
              "    <tr>\n",
              "      <th>2</th>\n",
              "      <td>1971-03-01</td>\n",
              "      <td>4584.855106</td>\n",
              "      <td>3498.639304</td>\n",
              "      <td>5627.091335</td>\n",
              "    </tr>\n",
              "    <tr>\n",
              "      <th>3</th>\n",
              "      <td>1971-04-01</td>\n",
              "      <td>5159.867778</td>\n",
              "      <td>4185.246256</td>\n",
              "      <td>6133.949734</td>\n",
              "    </tr>\n",
              "    <tr>\n",
              "      <th>4</th>\n",
              "      <td>1971-05-01</td>\n",
              "      <td>5176.010282</td>\n",
              "      <td>4277.545554</td>\n",
              "      <td>6183.304402</td>\n",
              "    </tr>\n",
              "    <tr>\n",
              "      <th>5</th>\n",
              "      <td>1971-06-01</td>\n",
              "      <td>5538.562459</td>\n",
              "      <td>4555.336635</td>\n",
              "      <td>6469.459222</td>\n",
              "    </tr>\n",
              "    <tr>\n",
              "      <th>6</th>\n",
              "      <td>1971-07-01</td>\n",
              "      <td>5073.376627</td>\n",
              "      <td>4034.986221</td>\n",
              "      <td>6072.429050</td>\n",
              "    </tr>\n",
              "    <tr>\n",
              "      <th>7</th>\n",
              "      <td>1971-08-01</td>\n",
              "      <td>2794.704575</td>\n",
              "      <td>1683.701828</td>\n",
              "      <td>3835.166246</td>\n",
              "    </tr>\n",
              "    <tr>\n",
              "      <th>8</th>\n",
              "      <td>1971-09-01</td>\n",
              "      <td>5820.019910</td>\n",
              "      <td>4815.636615</td>\n",
              "      <td>6857.415276</td>\n",
              "    </tr>\n",
              "    <tr>\n",
              "      <th>9</th>\n",
              "      <td>1971-10-01</td>\n",
              "      <td>6643.389926</td>\n",
              "      <td>5622.681270</td>\n",
              "      <td>7636.516206</td>\n",
              "    </tr>\n",
              "    <tr>\n",
              "      <th>10</th>\n",
              "      <td>1971-11-01</td>\n",
              "      <td>9646.364038</td>\n",
              "      <td>8601.843784</td>\n",
              "      <td>10620.621317</td>\n",
              "    </tr>\n",
              "    <tr>\n",
              "      <th>11</th>\n",
              "      <td>1971-12-01</td>\n",
              "      <td>12168.201568</td>\n",
              "      <td>11210.801859</td>\n",
              "      <td>13200.806536</td>\n",
              "    </tr>\n",
              "  </tbody>\n",
              "</table>\n",
              "</div>\n",
              "      <button class=\"colab-df-convert\" onclick=\"convertToInteractive('df-f0fc3ad8-e1dd-42c4-be80-3dfad1dda0ea')\"\n",
              "              title=\"Convert this dataframe to an interactive table.\"\n",
              "              style=\"display:none;\">\n",
              "        \n",
              "  <svg xmlns=\"http://www.w3.org/2000/svg\" height=\"24px\"viewBox=\"0 0 24 24\"\n",
              "       width=\"24px\">\n",
              "    <path d=\"M0 0h24v24H0V0z\" fill=\"none\"/>\n",
              "    <path d=\"M18.56 5.44l.94 2.06.94-2.06 2.06-.94-2.06-.94-.94-2.06-.94 2.06-2.06.94zm-11 1L8.5 8.5l.94-2.06 2.06-.94-2.06-.94L8.5 2.5l-.94 2.06-2.06.94zm10 10l.94 2.06.94-2.06 2.06-.94-2.06-.94-.94-2.06-.94 2.06-2.06.94z\"/><path d=\"M17.41 7.96l-1.37-1.37c-.4-.4-.92-.59-1.43-.59-.52 0-1.04.2-1.43.59L10.3 9.45l-7.72 7.72c-.78.78-.78 2.05 0 2.83L4 21.41c.39.39.9.59 1.41.59.51 0 1.02-.2 1.41-.59l7.78-7.78 2.81-2.81c.8-.78.8-2.07 0-2.86zM5.41 20L4 18.59l7.72-7.72 1.47 1.35L5.41 20z\"/>\n",
              "  </svg>\n",
              "      </button>\n",
              "      \n",
              "  <style>\n",
              "    .colab-df-container {\n",
              "      display:flex;\n",
              "      flex-wrap:wrap;\n",
              "      gap: 12px;\n",
              "    }\n",
              "\n",
              "    .colab-df-convert {\n",
              "      background-color: #E8F0FE;\n",
              "      border: none;\n",
              "      border-radius: 50%;\n",
              "      cursor: pointer;\n",
              "      display: none;\n",
              "      fill: #1967D2;\n",
              "      height: 32px;\n",
              "      padding: 0 0 0 0;\n",
              "      width: 32px;\n",
              "    }\n",
              "\n",
              "    .colab-df-convert:hover {\n",
              "      background-color: #E2EBFA;\n",
              "      box-shadow: 0px 1px 2px rgba(60, 64, 67, 0.3), 0px 1px 3px 1px rgba(60, 64, 67, 0.15);\n",
              "      fill: #174EA6;\n",
              "    }\n",
              "\n",
              "    [theme=dark] .colab-df-convert {\n",
              "      background-color: #3B4455;\n",
              "      fill: #D2E3FC;\n",
              "    }\n",
              "\n",
              "    [theme=dark] .colab-df-convert:hover {\n",
              "      background-color: #434B5C;\n",
              "      box-shadow: 0px 1px 3px 1px rgba(0, 0, 0, 0.15);\n",
              "      filter: drop-shadow(0px 1px 2px rgba(0, 0, 0, 0.3));\n",
              "      fill: #FFFFFF;\n",
              "    }\n",
              "  </style>\n",
              "\n",
              "      <script>\n",
              "        const buttonEl =\n",
              "          document.querySelector('#df-f0fc3ad8-e1dd-42c4-be80-3dfad1dda0ea button.colab-df-convert');\n",
              "        buttonEl.style.display =\n",
              "          google.colab.kernel.accessAllowed ? 'block' : 'none';\n",
              "\n",
              "        async function convertToInteractive(key) {\n",
              "          const element = document.querySelector('#df-f0fc3ad8-e1dd-42c4-be80-3dfad1dda0ea');\n",
              "          const dataTable =\n",
              "            await google.colab.kernel.invokeFunction('convertToInteractive',\n",
              "                                                     [key], {});\n",
              "          if (!dataTable) return;\n",
              "\n",
              "          const docLinkHtml = 'Like what you see? Visit the ' +\n",
              "            '<a target=\"_blank\" href=https://colab.research.google.com/notebooks/data_table.ipynb>data table notebook</a>'\n",
              "            + ' to learn more about interactive tables.';\n",
              "          element.innerHTML = '';\n",
              "          dataTable['output_type'] = 'display_data';\n",
              "          await google.colab.output.renderOutput(dataTable, element);\n",
              "          const docLink = document.createElement('div');\n",
              "          docLink.innerHTML = docLinkHtml;\n",
              "          element.appendChild(docLink);\n",
              "        }\n",
              "      </script>\n",
              "    </div>\n",
              "  </div>\n",
              "  "
            ]
          },
          "metadata": {},
          "execution_count": 89
        }
      ]
    },
    {
      "cell_type": "code",
      "source": [
        "validation"
      ],
      "metadata": {
        "colab": {
          "base_uri": "https://localhost:8080/"
        },
        "id": "GIlqSLv0X7MM",
        "outputId": "131542ec-a3e7-47ec-da75-f53f6dc9e2e7"
      },
      "execution_count": 90,
      "outputs": [
        {
          "output_type": "execute_result",
          "data": {
            "text/plain": [
              "Month\n",
              "1971-01-01     3934\n",
              "1971-02-01     3162\n",
              "1971-03-01     4286\n",
              "1971-04-01     4676\n",
              "1971-05-01     5010\n",
              "1971-06-01     4874\n",
              "1971-07-01     4633\n",
              "1971-08-01     1659\n",
              "1971-09-01     5951\n",
              "1971-10-01     6981\n",
              "1971-11-01     9851\n",
              "1971-12-01    12670\n",
              "Name: Sales, dtype: int64"
            ]
          },
          "metadata": {},
          "execution_count": 90
        }
      ]
    },
    {
      "cell_type": "code",
      "source": [
        "rmse = sqrt(mean_squared_error(validation.values, saida.yhat))\n",
        "print('Test RMSE: %.3f' % rmse)"
      ],
      "metadata": {
        "colab": {
          "base_uri": "https://localhost:8080/"
        },
        "id": "TYspDvswX7FS",
        "outputId": "1624ddaa-35a1-4a41-d428-10b5abd5ac57"
      },
      "execution_count": 91,
      "outputs": [
        {
          "output_type": "stream",
          "name": "stdout",
          "text": [
            "Test RMSE: 681.411\n"
          ]
        }
      ]
    },
    {
      "cell_type": "code",
      "source": [
        "figura = model.plot(saida)"
      ],
      "metadata": {
        "colab": {
          "base_uri": "https://localhost:8080/",
          "height": 441
        },
        "id": "p0jPA6qRX65e",
        "outputId": "aa84c106-74f9-480e-f8ae-44688bca0140"
      },
      "execution_count": 92,
      "outputs": [
        {
          "output_type": "display_data",
          "data": {
            "text/plain": [
              "<Figure size 720x432 with 1 Axes>"
            ],
            "image/png": "[encoded data removed]"
          },
          "metadata": {}
        }
      ]
    },
    {
      "cell_type": "code",
      "source": [
        "model.plot_components(saida)\n",
        "pyplot.show()"
      ],
      "metadata": {
        "colab": {
          "base_uri": "https://localhost:8080/",
          "height": 441
        },
        "id": "pgi0EzE0YWle",
        "outputId": "f7b62f0b-eb07-4777-bce1-5088a5622e61"
      },
      "execution_count": 95,
      "outputs": [
        {
          "output_type": "display_data",
          "data": {
            "text/plain": [
              "<Figure size 648x432 with 2 Axes>"
            ],
            "image/png": "[encoded data removed]"
          },
          "metadata": {}
        }
      ]
    },
    {
      "cell_type": "markdown",
      "source": [
        "**Tunado o modelo**"
      ],
      "metadata": {
        "id": "f9vFQygAb6FO"
      }
    },
    {
      "cell_type": "code",
      "source": [
        "model = Prophet(seasonality_mode='multiplicative')"
      ],
      "metadata": {
        "id": "qn3P24rXYWik"
      },
      "execution_count": 96,
      "outputs": []
    },
    {
      "cell_type": "code",
      "source": [
        "model.fit(dataframe)"
      ],
      "metadata": {
        "colab": {
          "base_uri": "https://localhost:8080/"
        },
        "id": "e2_aVX-6YWgi",
        "outputId": "4e3ca575-ac9c-40f6-c7cc-f5ca7892a5a0"
      },
      "execution_count": 97,
      "outputs": [
        {
          "output_type": "stream",
          "name": "stderr",
          "text": [
            "INFO:fbprophet:Disabling weekly seasonality. Run prophet with weekly_seasonality=True to override this.\n",
            "INFO:fbprophet:Disabling daily seasonality. Run prophet with daily_seasonality=True to override this.\n"
          ]
        },
        {
          "output_type": "execute_result",
          "data": {
            "text/plain": [
              "<fbprophet.forecaster.Prophet at 0x7fcedfec69d0>"
            ]
          },
          "metadata": {},
          "execution_count": 97
        }
      ]
    },
    {
      "cell_type": "code",
      "source": [
        "validation_df = pd.DataFrame({'ds': validation.index})"
      ],
      "metadata": {
        "id": "Cbt2HiY9YWeH"
      },
      "execution_count": 98,
      "outputs": []
    },
    {
      "cell_type": "code",
      "source": [
        "saida = model.predict(validation_df)"
      ],
      "metadata": {
        "id": "7Dbv2zlAYWbS"
      },
      "execution_count": 99,
      "outputs": []
    },
    {
      "cell_type": "code",
      "source": [
        "rmse = sqrt(mean_squared_error(validation.values, saida.yhat))\n",
        "print('Test RMSE: %.3f' % rmse)"
      ],
      "metadata": {
        "colab": {
          "base_uri": "https://localhost:8080/"
        },
        "id": "LS9sQiwVcaZY",
        "outputId": "32511f4e-bf9e-4a3f-bfab-bcc825986596"
      },
      "execution_count": 100,
      "outputs": [
        {
          "output_type": "stream",
          "name": "stdout",
          "text": [
            "Test RMSE: 521.264\n"
          ]
        }
      ]
    },
    {
      "cell_type": "markdown",
      "source": [
        "Mudando o **seasonality_mode** para \"multiplicative\" reduzimos o erro para 521.264"
      ],
      "metadata": {
        "id": "LxXTxFH7cuP4"
      }
    }
  ]
}